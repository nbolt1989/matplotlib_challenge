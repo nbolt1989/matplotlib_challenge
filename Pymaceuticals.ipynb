{
 "cells": [
  {
   "cell_type": "markdown",
   "metadata": {},
   "source": [
    "## Observations and Insights \n",
    "•Observation One: Capomulin and Ramicane had the lowest SEMs, standard deviations, and average tumor size. By having these stats, Ramicane and Capomulin are likely the most effective drug regimens. \n",
    "\n",
    "•Observation Two: Propriva had the fewest total number of mice across all timepoints, indicating some ineffectiveness with this treatment since mice were dying off sooner versus other treatments. \n",
    "\n",
    "•Observation Three: There is a strong correlation between mouse weight and average tumor size on the drug regimen capomulin; correlation coefficient is .84. "
   ]
  },
  {
   "cell_type": "markdown",
   "metadata": {},
   "source": [
    "\n"
   ]
  },
  {
   "cell_type": "code",
   "execution_count": 1,
   "metadata": {},
   "outputs": [],
   "source": [
    "# Dependencies and Setup\n",
    "import matplotlib.pyplot as plt\n",
    "import pandas as pd\n",
    "import scipy.stats as st\n",
    "import numpy as np\n",
    "import scipy.stats as linregress\n",
    "\n",
    "# Study data files\n",
    "mouse_metadata_path = \"Resources/Mouse_metadata.csv\"\n",
    "study_results_path = \"Resources/Study_results.csv\"\n",
    "\n",
    "# Read the mouse data and the study results\n",
    "mouse_metadata = pd.read_csv(mouse_metadata_path)\n",
    "study_results = pd.read_csv(study_results_path)\n",
    "\n",
    "# Combine the data into a single dataset\n",
    "#The two datasets share 'Mouse ID' so I am going to merge the sets on that column.\n",
    "merged_df = pd.merge(mouse_metadata, study_results, on='Mouse ID')"
   ]
  },
  {
   "cell_type": "code",
   "execution_count": 2,
   "metadata": {},
   "outputs": [
    {
     "data": {
      "text/plain": [
       "249"
      ]
     },
     "execution_count": 2,
     "metadata": {},
     "output_type": "execute_result"
    }
   ],
   "source": [
    "#This will quickly show me how many unique Mouse IDs there are. \n",
    "merged_df['Mouse ID'].nunique()"
   ]
  },
  {
   "cell_type": "markdown",
   "metadata": {},
   "source": [
    "# Check for Duplicate mice and clean the Dataframe\n",
    "Checking the number of mice in the DataFrame."
   ]
  },
  {
   "cell_type": "code",
   "execution_count": 256,
   "metadata": {},
   "outputs": [
    {
     "data": {
      "text/plain": [
       "0     250\n",
       "5     238\n",
       "10    223\n",
       "15    207\n",
       "20    195\n",
       "25    183\n",
       "30    171\n",
       "35    154\n",
       "40    142\n",
       "45    130\n",
       "Name: Timepoint, dtype: int64"
      ]
     },
     "execution_count": 256,
     "metadata": {},
     "output_type": "execute_result"
    }
   ],
   "source": [
    "# Checking the number of mice in the DataFrame.\n",
    "# If we compare do a .nunique (like above) for Mouse ID we find that there are 249 unique mice IDs, but\n",
    "# 250 show up if we do a value_counts. So there appears to be a discrepancy from at least the 0 timepoint on.\n",
    "merged_df['Mouse ID'].value_counts()\n",
    "merged_df['Timepoint'].value_counts()"
   ]
  },
  {
   "cell_type": "code",
   "execution_count": 4,
   "metadata": {},
   "outputs": [
    {
     "data": {
      "text/html": [
       "<div>\n",
       "<style scoped>\n",
       "    .dataframe tbody tr th:only-of-type {\n",
       "        vertical-align: middle;\n",
       "    }\n",
       "\n",
       "    .dataframe tbody tr th {\n",
       "        vertical-align: top;\n",
       "    }\n",
       "\n",
       "    .dataframe thead th {\n",
       "        text-align: right;\n",
       "    }\n",
       "</style>\n",
       "<table border=\"1\" class=\"dataframe\">\n",
       "  <thead>\n",
       "    <tr style=\"text-align: right;\">\n",
       "      <th></th>\n",
       "      <th>Mouse ID</th>\n",
       "      <th>Drug Regimen</th>\n",
       "      <th>Sex</th>\n",
       "      <th>Age_months</th>\n",
       "      <th>Weight (g)</th>\n",
       "      <th>Timepoint</th>\n",
       "      <th>Tumor Volume (mm3)</th>\n",
       "      <th>Metastatic Sites</th>\n",
       "    </tr>\n",
       "  </thead>\n",
       "  <tbody>\n",
       "    <tr>\n",
       "      <th>908</th>\n",
       "      <td>g989</td>\n",
       "      <td>Propriva</td>\n",
       "      <td>Female</td>\n",
       "      <td>21</td>\n",
       "      <td>26</td>\n",
       "      <td>0</td>\n",
       "      <td>45.000000</td>\n",
       "      <td>0</td>\n",
       "    </tr>\n",
       "    <tr>\n",
       "      <th>909</th>\n",
       "      <td>g989</td>\n",
       "      <td>Propriva</td>\n",
       "      <td>Female</td>\n",
       "      <td>21</td>\n",
       "      <td>26</td>\n",
       "      <td>0</td>\n",
       "      <td>45.000000</td>\n",
       "      <td>0</td>\n",
       "    </tr>\n",
       "    <tr>\n",
       "      <th>910</th>\n",
       "      <td>g989</td>\n",
       "      <td>Propriva</td>\n",
       "      <td>Female</td>\n",
       "      <td>21</td>\n",
       "      <td>26</td>\n",
       "      <td>5</td>\n",
       "      <td>48.786801</td>\n",
       "      <td>0</td>\n",
       "    </tr>\n",
       "    <tr>\n",
       "      <th>911</th>\n",
       "      <td>g989</td>\n",
       "      <td>Propriva</td>\n",
       "      <td>Female</td>\n",
       "      <td>21</td>\n",
       "      <td>26</td>\n",
       "      <td>5</td>\n",
       "      <td>47.570392</td>\n",
       "      <td>0</td>\n",
       "    </tr>\n",
       "    <tr>\n",
       "      <th>912</th>\n",
       "      <td>g989</td>\n",
       "      <td>Propriva</td>\n",
       "      <td>Female</td>\n",
       "      <td>21</td>\n",
       "      <td>26</td>\n",
       "      <td>10</td>\n",
       "      <td>51.745156</td>\n",
       "      <td>0</td>\n",
       "    </tr>\n",
       "    <tr>\n",
       "      <th>913</th>\n",
       "      <td>g989</td>\n",
       "      <td>Propriva</td>\n",
       "      <td>Female</td>\n",
       "      <td>21</td>\n",
       "      <td>26</td>\n",
       "      <td>10</td>\n",
       "      <td>49.880528</td>\n",
       "      <td>0</td>\n",
       "    </tr>\n",
       "    <tr>\n",
       "      <th>914</th>\n",
       "      <td>g989</td>\n",
       "      <td>Propriva</td>\n",
       "      <td>Female</td>\n",
       "      <td>21</td>\n",
       "      <td>26</td>\n",
       "      <td>15</td>\n",
       "      <td>51.325852</td>\n",
       "      <td>1</td>\n",
       "    </tr>\n",
       "    <tr>\n",
       "      <th>915</th>\n",
       "      <td>g989</td>\n",
       "      <td>Propriva</td>\n",
       "      <td>Female</td>\n",
       "      <td>21</td>\n",
       "      <td>26</td>\n",
       "      <td>15</td>\n",
       "      <td>53.442020</td>\n",
       "      <td>0</td>\n",
       "    </tr>\n",
       "    <tr>\n",
       "      <th>916</th>\n",
       "      <td>g989</td>\n",
       "      <td>Propriva</td>\n",
       "      <td>Female</td>\n",
       "      <td>21</td>\n",
       "      <td>26</td>\n",
       "      <td>20</td>\n",
       "      <td>55.326122</td>\n",
       "      <td>1</td>\n",
       "    </tr>\n",
       "    <tr>\n",
       "      <th>917</th>\n",
       "      <td>g989</td>\n",
       "      <td>Propriva</td>\n",
       "      <td>Female</td>\n",
       "      <td>21</td>\n",
       "      <td>26</td>\n",
       "      <td>20</td>\n",
       "      <td>54.657650</td>\n",
       "      <td>1</td>\n",
       "    </tr>\n",
       "  </tbody>\n",
       "</table>\n",
       "</div>"
      ],
      "text/plain": [
       "    Mouse ID Drug Regimen     Sex  Age_months  Weight (g)  Timepoint  \\\n",
       "908     g989     Propriva  Female          21          26          0   \n",
       "909     g989     Propriva  Female          21          26          0   \n",
       "910     g989     Propriva  Female          21          26          5   \n",
       "911     g989     Propriva  Female          21          26          5   \n",
       "912     g989     Propriva  Female          21          26         10   \n",
       "913     g989     Propriva  Female          21          26         10   \n",
       "914     g989     Propriva  Female          21          26         15   \n",
       "915     g989     Propriva  Female          21          26         15   \n",
       "916     g989     Propriva  Female          21          26         20   \n",
       "917     g989     Propriva  Female          21          26         20   \n",
       "\n",
       "     Tumor Volume (mm3)  Metastatic Sites  \n",
       "908           45.000000                 0  \n",
       "909           45.000000                 0  \n",
       "910           48.786801                 0  \n",
       "911           47.570392                 0  \n",
       "912           51.745156                 0  \n",
       "913           49.880528                 0  \n",
       "914           51.325852                 1  \n",
       "915           53.442020                 0  \n",
       "916           55.326122                 1  \n",
       "917           54.657650                 1  "
      ]
     },
     "execution_count": 4,
     "metadata": {},
     "output_type": "execute_result"
    }
   ],
   "source": [
    "# Get the duplicate mice by ID number that shows up for Mouse ID and Timepoint. \n",
    "# Optional: Get all the data for the duplicate mouse ID. \n",
    "# I need to find the ONE duplicate mouse. There is a function that can search what is duplicated that I will use:\n",
    "#https://thispointer.com/pandas-find-duplicate-rows-in-a-dataframe-based-on-all-or-selected-columns-using\n",
    "#-dataframe-duplicated-in-python/#:~:text=To%20find%20%26%20select%20the%20duplicate,argument%20is%20'first').\n",
    "findthedup_df = merged_df[merged_df.duplicated(subset=['Mouse ID','Timepoint'],keep=False)]\n",
    "findthedup_df\n",
    "#This is showing that mouse g989 is has duplicated rows up to the 20 timepoint(so 5 total duplicates)."
   ]
  },
  {
   "cell_type": "code",
   "execution_count": 5,
   "metadata": {},
   "outputs": [
    {
     "data": {
      "text/html": [
       "<div>\n",
       "<style scoped>\n",
       "    .dataframe tbody tr th:only-of-type {\n",
       "        vertical-align: middle;\n",
       "    }\n",
       "\n",
       "    .dataframe tbody tr th {\n",
       "        vertical-align: top;\n",
       "    }\n",
       "\n",
       "    .dataframe thead th {\n",
       "        text-align: right;\n",
       "    }\n",
       "</style>\n",
       "<table border=\"1\" class=\"dataframe\">\n",
       "  <thead>\n",
       "    <tr style=\"text-align: right;\">\n",
       "      <th></th>\n",
       "      <th>Mouse ID</th>\n",
       "      <th>Drug Regimen</th>\n",
       "      <th>Sex</th>\n",
       "      <th>Age_months</th>\n",
       "      <th>Weight (g)</th>\n",
       "      <th>Timepoint</th>\n",
       "      <th>Tumor Volume (mm3)</th>\n",
       "      <th>Metastatic Sites</th>\n",
       "    </tr>\n",
       "  </thead>\n",
       "  <tbody>\n",
       "    <tr>\n",
       "      <th>0</th>\n",
       "      <td>k403</td>\n",
       "      <td>Ramicane</td>\n",
       "      <td>Male</td>\n",
       "      <td>21</td>\n",
       "      <td>16</td>\n",
       "      <td>0</td>\n",
       "      <td>45.000000</td>\n",
       "      <td>0</td>\n",
       "    </tr>\n",
       "    <tr>\n",
       "      <th>1</th>\n",
       "      <td>k403</td>\n",
       "      <td>Ramicane</td>\n",
       "      <td>Male</td>\n",
       "      <td>21</td>\n",
       "      <td>16</td>\n",
       "      <td>5</td>\n",
       "      <td>38.825898</td>\n",
       "      <td>0</td>\n",
       "    </tr>\n",
       "    <tr>\n",
       "      <th>2</th>\n",
       "      <td>k403</td>\n",
       "      <td>Ramicane</td>\n",
       "      <td>Male</td>\n",
       "      <td>21</td>\n",
       "      <td>16</td>\n",
       "      <td>10</td>\n",
       "      <td>35.014271</td>\n",
       "      <td>1</td>\n",
       "    </tr>\n",
       "    <tr>\n",
       "      <th>3</th>\n",
       "      <td>k403</td>\n",
       "      <td>Ramicane</td>\n",
       "      <td>Male</td>\n",
       "      <td>21</td>\n",
       "      <td>16</td>\n",
       "      <td>15</td>\n",
       "      <td>34.223992</td>\n",
       "      <td>1</td>\n",
       "    </tr>\n",
       "    <tr>\n",
       "      <th>4</th>\n",
       "      <td>k403</td>\n",
       "      <td>Ramicane</td>\n",
       "      <td>Male</td>\n",
       "      <td>21</td>\n",
       "      <td>16</td>\n",
       "      <td>20</td>\n",
       "      <td>32.997729</td>\n",
       "      <td>1</td>\n",
       "    </tr>\n",
       "    <tr>\n",
       "      <th>...</th>\n",
       "      <td>...</td>\n",
       "      <td>...</td>\n",
       "      <td>...</td>\n",
       "      <td>...</td>\n",
       "      <td>...</td>\n",
       "      <td>...</td>\n",
       "      <td>...</td>\n",
       "      <td>...</td>\n",
       "    </tr>\n",
       "    <tr>\n",
       "      <th>1888</th>\n",
       "      <td>z969</td>\n",
       "      <td>Naftisol</td>\n",
       "      <td>Male</td>\n",
       "      <td>9</td>\n",
       "      <td>30</td>\n",
       "      <td>25</td>\n",
       "      <td>63.145652</td>\n",
       "      <td>2</td>\n",
       "    </tr>\n",
       "    <tr>\n",
       "      <th>1889</th>\n",
       "      <td>z969</td>\n",
       "      <td>Naftisol</td>\n",
       "      <td>Male</td>\n",
       "      <td>9</td>\n",
       "      <td>30</td>\n",
       "      <td>30</td>\n",
       "      <td>65.841013</td>\n",
       "      <td>3</td>\n",
       "    </tr>\n",
       "    <tr>\n",
       "      <th>1890</th>\n",
       "      <td>z969</td>\n",
       "      <td>Naftisol</td>\n",
       "      <td>Male</td>\n",
       "      <td>9</td>\n",
       "      <td>30</td>\n",
       "      <td>35</td>\n",
       "      <td>69.176246</td>\n",
       "      <td>4</td>\n",
       "    </tr>\n",
       "    <tr>\n",
       "      <th>1891</th>\n",
       "      <td>z969</td>\n",
       "      <td>Naftisol</td>\n",
       "      <td>Male</td>\n",
       "      <td>9</td>\n",
       "      <td>30</td>\n",
       "      <td>40</td>\n",
       "      <td>70.314904</td>\n",
       "      <td>4</td>\n",
       "    </tr>\n",
       "    <tr>\n",
       "      <th>1892</th>\n",
       "      <td>z969</td>\n",
       "      <td>Naftisol</td>\n",
       "      <td>Male</td>\n",
       "      <td>9</td>\n",
       "      <td>30</td>\n",
       "      <td>45</td>\n",
       "      <td>73.867845</td>\n",
       "      <td>4</td>\n",
       "    </tr>\n",
       "  </tbody>\n",
       "</table>\n",
       "<p>1888 rows × 8 columns</p>\n",
       "</div>"
      ],
      "text/plain": [
       "     Mouse ID Drug Regimen   Sex  Age_months  Weight (g)  Timepoint  \\\n",
       "0        k403     Ramicane  Male          21          16          0   \n",
       "1        k403     Ramicane  Male          21          16          5   \n",
       "2        k403     Ramicane  Male          21          16         10   \n",
       "3        k403     Ramicane  Male          21          16         15   \n",
       "4        k403     Ramicane  Male          21          16         20   \n",
       "...       ...          ...   ...         ...         ...        ...   \n",
       "1888     z969     Naftisol  Male           9          30         25   \n",
       "1889     z969     Naftisol  Male           9          30         30   \n",
       "1890     z969     Naftisol  Male           9          30         35   \n",
       "1891     z969     Naftisol  Male           9          30         40   \n",
       "1892     z969     Naftisol  Male           9          30         45   \n",
       "\n",
       "      Tumor Volume (mm3)  Metastatic Sites  \n",
       "0              45.000000                 0  \n",
       "1              38.825898                 0  \n",
       "2              35.014271                 1  \n",
       "3              34.223992                 1  \n",
       "4              32.997729                 1  \n",
       "...                  ...               ...  \n",
       "1888           63.145652                 2  \n",
       "1889           65.841013                 3  \n",
       "1890           69.176246                 4  \n",
       "1891           70.314904                 4  \n",
       "1892           73.867845                 4  \n",
       "\n",
       "[1888 rows x 8 columns]"
      ]
     },
     "execution_count": 5,
     "metadata": {},
     "output_type": "execute_result"
    }
   ],
   "source": [
    "# Create a clean DataFrame by dropping the duplicate mouse by its ID.\n",
    "# now I need to drop the duplicates for g989. \n",
    "# we can also confirm 5 have been dropped by checking the row length; it decreased from 1893 to 1888. \n",
    "clean_df = merged_df.drop_duplicates(subset=['Mouse ID','Timepoint'],keep='first')\n",
    "clean_df"
   ]
  },
  {
   "cell_type": "code",
   "execution_count": 258,
   "metadata": {},
   "outputs": [
    {
     "data": {
      "text/plain": [
       "0     249\n",
       "5     237\n",
       "10    222\n",
       "15    206\n",
       "20    194\n",
       "25    183\n",
       "30    171\n",
       "35    154\n",
       "40    142\n",
       "45    130\n",
       "Name: Timepoint, dtype: int64"
      ]
     },
     "execution_count": 258,
     "metadata": {},
     "output_type": "execute_result"
    }
   ],
   "source": [
    "# re-checking the number of mice in the DataFrame at their time points.\n",
    "clean_df['Mouse ID'].value_counts()\n",
    "clean_df['Timepoint'].value_counts()"
   ]
  },
  {
   "cell_type": "code",
   "execution_count": 8,
   "metadata": {},
   "outputs": [
    {
     "data": {
      "text/html": [
       "<div>\n",
       "<style scoped>\n",
       "    .dataframe tbody tr th:only-of-type {\n",
       "        vertical-align: middle;\n",
       "    }\n",
       "\n",
       "    .dataframe tbody tr th {\n",
       "        vertical-align: top;\n",
       "    }\n",
       "\n",
       "    .dataframe thead th {\n",
       "        text-align: right;\n",
       "    }\n",
       "</style>\n",
       "<table border=\"1\" class=\"dataframe\">\n",
       "  <thead>\n",
       "    <tr style=\"text-align: right;\">\n",
       "      <th></th>\n",
       "      <th>Mouse ID</th>\n",
       "      <th>Drug Regimen</th>\n",
       "      <th>Sex</th>\n",
       "      <th>Age_months</th>\n",
       "      <th>Weight (g)</th>\n",
       "      <th>Timepoint</th>\n",
       "      <th>Tumor Volume (mm3)</th>\n",
       "      <th>Metastatic Sites</th>\n",
       "    </tr>\n",
       "  </thead>\n",
       "  <tbody>\n",
       "    <tr>\n",
       "      <th>908</th>\n",
       "      <td>g989</td>\n",
       "      <td>Propriva</td>\n",
       "      <td>Female</td>\n",
       "      <td>21</td>\n",
       "      <td>26</td>\n",
       "      <td>0</td>\n",
       "      <td>45.000000</td>\n",
       "      <td>0</td>\n",
       "    </tr>\n",
       "    <tr>\n",
       "      <th>910</th>\n",
       "      <td>g989</td>\n",
       "      <td>Propriva</td>\n",
       "      <td>Female</td>\n",
       "      <td>21</td>\n",
       "      <td>26</td>\n",
       "      <td>5</td>\n",
       "      <td>48.786801</td>\n",
       "      <td>0</td>\n",
       "    </tr>\n",
       "    <tr>\n",
       "      <th>912</th>\n",
       "      <td>g989</td>\n",
       "      <td>Propriva</td>\n",
       "      <td>Female</td>\n",
       "      <td>21</td>\n",
       "      <td>26</td>\n",
       "      <td>10</td>\n",
       "      <td>51.745156</td>\n",
       "      <td>0</td>\n",
       "    </tr>\n",
       "    <tr>\n",
       "      <th>914</th>\n",
       "      <td>g989</td>\n",
       "      <td>Propriva</td>\n",
       "      <td>Female</td>\n",
       "      <td>21</td>\n",
       "      <td>26</td>\n",
       "      <td>15</td>\n",
       "      <td>51.325852</td>\n",
       "      <td>1</td>\n",
       "    </tr>\n",
       "    <tr>\n",
       "      <th>916</th>\n",
       "      <td>g989</td>\n",
       "      <td>Propriva</td>\n",
       "      <td>Female</td>\n",
       "      <td>21</td>\n",
       "      <td>26</td>\n",
       "      <td>20</td>\n",
       "      <td>55.326122</td>\n",
       "      <td>1</td>\n",
       "    </tr>\n",
       "    <tr>\n",
       "      <th>918</th>\n",
       "      <td>g989</td>\n",
       "      <td>Propriva</td>\n",
       "      <td>Female</td>\n",
       "      <td>21</td>\n",
       "      <td>26</td>\n",
       "      <td>25</td>\n",
       "      <td>56.045564</td>\n",
       "      <td>1</td>\n",
       "    </tr>\n",
       "    <tr>\n",
       "      <th>919</th>\n",
       "      <td>g989</td>\n",
       "      <td>Propriva</td>\n",
       "      <td>Female</td>\n",
       "      <td>21</td>\n",
       "      <td>26</td>\n",
       "      <td>30</td>\n",
       "      <td>59.082294</td>\n",
       "      <td>1</td>\n",
       "    </tr>\n",
       "    <tr>\n",
       "      <th>920</th>\n",
       "      <td>g989</td>\n",
       "      <td>Propriva</td>\n",
       "      <td>Female</td>\n",
       "      <td>21</td>\n",
       "      <td>26</td>\n",
       "      <td>35</td>\n",
       "      <td>62.570880</td>\n",
       "      <td>2</td>\n",
       "    </tr>\n",
       "  </tbody>\n",
       "</table>\n",
       "</div>"
      ],
      "text/plain": [
       "    Mouse ID Drug Regimen     Sex  Age_months  Weight (g)  Timepoint  \\\n",
       "908     g989     Propriva  Female          21          26          0   \n",
       "910     g989     Propriva  Female          21          26          5   \n",
       "912     g989     Propriva  Female          21          26         10   \n",
       "914     g989     Propriva  Female          21          26         15   \n",
       "916     g989     Propriva  Female          21          26         20   \n",
       "918     g989     Propriva  Female          21          26         25   \n",
       "919     g989     Propriva  Female          21          26         30   \n",
       "920     g989     Propriva  Female          21          26         35   \n",
       "\n",
       "     Tumor Volume (mm3)  Metastatic Sites  \n",
       "908           45.000000                 0  \n",
       "910           48.786801                 0  \n",
       "912           51.745156                 0  \n",
       "914           51.325852                 1  \n",
       "916           55.326122                 1  \n",
       "918           56.045564                 1  \n",
       "919           59.082294                 1  \n",
       "920           62.570880                 2  "
      ]
     },
     "execution_count": 8,
     "metadata": {},
     "output_type": "execute_result"
    }
   ],
   "source": [
    "# Checking the number of mice in the clean DataFrame part 2:\n",
    "# I want to show, again, that the mouse at g989 does not have any more duplicates. A .loc equaling the mouse ID\n",
    "# should suffice. \n",
    "#This will show that the mouse we found to be a duplicate has been removed.\n",
    "doubleclean_df = clean_df.loc[clean_df['Mouse ID'] == 'g989']\n",
    "doubleclean_df"
   ]
  },
  {
   "cell_type": "code",
   "execution_count": 260,
   "metadata": {},
   "outputs": [
    {
     "data": {
      "text/html": [
       "<div>\n",
       "<style scoped>\n",
       "    .dataframe tbody tr th:only-of-type {\n",
       "        vertical-align: middle;\n",
       "    }\n",
       "\n",
       "    .dataframe tbody tr th {\n",
       "        vertical-align: top;\n",
       "    }\n",
       "\n",
       "    .dataframe thead th {\n",
       "        text-align: right;\n",
       "    }\n",
       "</style>\n",
       "<table border=\"1\" class=\"dataframe\">\n",
       "  <thead>\n",
       "    <tr style=\"text-align: right;\">\n",
       "      <th></th>\n",
       "      <th></th>\n",
       "      <th>Drug Regimen</th>\n",
       "      <th>Sex</th>\n",
       "      <th>Age_months</th>\n",
       "      <th>Weight (g)</th>\n",
       "      <th>Tumor Volume (mm3)</th>\n",
       "      <th>Metastatic Sites</th>\n",
       "    </tr>\n",
       "    <tr>\n",
       "      <th>Mouse ID</th>\n",
       "      <th>Timepoint</th>\n",
       "      <th></th>\n",
       "      <th></th>\n",
       "      <th></th>\n",
       "      <th></th>\n",
       "      <th></th>\n",
       "      <th></th>\n",
       "    </tr>\n",
       "  </thead>\n",
       "  <tbody>\n",
       "    <tr>\n",
       "      <th rowspan=\"5\" valign=\"top\">a203</th>\n",
       "      <th>0</th>\n",
       "      <td>Infubinol</td>\n",
       "      <td>Female</td>\n",
       "      <td>20</td>\n",
       "      <td>23</td>\n",
       "      <td>45.000000</td>\n",
       "      <td>0</td>\n",
       "    </tr>\n",
       "    <tr>\n",
       "      <th>5</th>\n",
       "      <td>Infubinol</td>\n",
       "      <td>Female</td>\n",
       "      <td>20</td>\n",
       "      <td>23</td>\n",
       "      <td>48.508468</td>\n",
       "      <td>0</td>\n",
       "    </tr>\n",
       "    <tr>\n",
       "      <th>10</th>\n",
       "      <td>Infubinol</td>\n",
       "      <td>Female</td>\n",
       "      <td>20</td>\n",
       "      <td>23</td>\n",
       "      <td>51.852437</td>\n",
       "      <td>1</td>\n",
       "    </tr>\n",
       "    <tr>\n",
       "      <th>15</th>\n",
       "      <td>Infubinol</td>\n",
       "      <td>Female</td>\n",
       "      <td>20</td>\n",
       "      <td>23</td>\n",
       "      <td>52.777870</td>\n",
       "      <td>1</td>\n",
       "    </tr>\n",
       "    <tr>\n",
       "      <th>20</th>\n",
       "      <td>Infubinol</td>\n",
       "      <td>Female</td>\n",
       "      <td>20</td>\n",
       "      <td>23</td>\n",
       "      <td>55.173336</td>\n",
       "      <td>1</td>\n",
       "    </tr>\n",
       "    <tr>\n",
       "      <th>...</th>\n",
       "      <th>...</th>\n",
       "      <td>...</td>\n",
       "      <td>...</td>\n",
       "      <td>...</td>\n",
       "      <td>...</td>\n",
       "      <td>...</td>\n",
       "      <td>...</td>\n",
       "    </tr>\n",
       "    <tr>\n",
       "      <th rowspan=\"5\" valign=\"top\">z969</th>\n",
       "      <th>25</th>\n",
       "      <td>Naftisol</td>\n",
       "      <td>Male</td>\n",
       "      <td>9</td>\n",
       "      <td>30</td>\n",
       "      <td>63.145652</td>\n",
       "      <td>2</td>\n",
       "    </tr>\n",
       "    <tr>\n",
       "      <th>30</th>\n",
       "      <td>Naftisol</td>\n",
       "      <td>Male</td>\n",
       "      <td>9</td>\n",
       "      <td>30</td>\n",
       "      <td>65.841013</td>\n",
       "      <td>3</td>\n",
       "    </tr>\n",
       "    <tr>\n",
       "      <th>35</th>\n",
       "      <td>Naftisol</td>\n",
       "      <td>Male</td>\n",
       "      <td>9</td>\n",
       "      <td>30</td>\n",
       "      <td>69.176246</td>\n",
       "      <td>4</td>\n",
       "    </tr>\n",
       "    <tr>\n",
       "      <th>40</th>\n",
       "      <td>Naftisol</td>\n",
       "      <td>Male</td>\n",
       "      <td>9</td>\n",
       "      <td>30</td>\n",
       "      <td>70.314904</td>\n",
       "      <td>4</td>\n",
       "    </tr>\n",
       "    <tr>\n",
       "      <th>45</th>\n",
       "      <td>Naftisol</td>\n",
       "      <td>Male</td>\n",
       "      <td>9</td>\n",
       "      <td>30</td>\n",
       "      <td>73.867845</td>\n",
       "      <td>4</td>\n",
       "    </tr>\n",
       "  </tbody>\n",
       "</table>\n",
       "<p>1888 rows × 6 columns</p>\n",
       "</div>"
      ],
      "text/plain": [
       "                   Drug Regimen     Sex  Age_months  Weight (g)  \\\n",
       "Mouse ID Timepoint                                                \n",
       "a203     0            Infubinol  Female          20          23   \n",
       "         5            Infubinol  Female          20          23   \n",
       "         10           Infubinol  Female          20          23   \n",
       "         15           Infubinol  Female          20          23   \n",
       "         20           Infubinol  Female          20          23   \n",
       "...                         ...     ...         ...         ...   \n",
       "z969     25            Naftisol    Male           9          30   \n",
       "         30            Naftisol    Male           9          30   \n",
       "         35            Naftisol    Male           9          30   \n",
       "         40            Naftisol    Male           9          30   \n",
       "         45            Naftisol    Male           9          30   \n",
       "\n",
       "                    Tumor Volume (mm3)  Metastatic Sites  \n",
       "Mouse ID Timepoint                                        \n",
       "a203     0                   45.000000                 0  \n",
       "         5                   48.508468                 0  \n",
       "         10                  51.852437                 1  \n",
       "         15                  52.777870                 1  \n",
       "         20                  55.173336                 1  \n",
       "...                                ...               ...  \n",
       "z969     25                  63.145652                 2  \n",
       "         30                  65.841013                 3  \n",
       "         35                  69.176246                 4  \n",
       "         40                  70.314904                 4  \n",
       "         45                  73.867845                 4  \n",
       "\n",
       "[1888 rows x 6 columns]"
      ]
     },
     "execution_count": 260,
     "metadata": {},
     "output_type": "execute_result"
    }
   ],
   "source": [
    "#Look at possibly doing a group by for each unique mouse by their ID, this will allow me to \n",
    "#see their timepoints. This is more for my clarity to see a different style of set up. \n",
    "groupbyID_df = clean_df.groupby(['Mouse ID','Timepoint'])\n",
    "groupbyID_df.first()"
   ]
  },
  {
   "cell_type": "markdown",
   "metadata": {},
   "source": [
    "## Summary Statistics\n",
    "Generate a summary statistics table of mean, median, variance, standard deviation, and SEM of the tumor volume for each regimen"
   ]
  },
  {
   "cell_type": "code",
   "execution_count": 10,
   "metadata": {},
   "outputs": [
    {
     "data": {
      "text/html": [
       "<div>\n",
       "<style scoped>\n",
       "    .dataframe tbody tr th:only-of-type {\n",
       "        vertical-align: middle;\n",
       "    }\n",
       "\n",
       "    .dataframe tbody tr th {\n",
       "        vertical-align: top;\n",
       "    }\n",
       "\n",
       "    .dataframe thead tr th {\n",
       "        text-align: left;\n",
       "    }\n",
       "\n",
       "    .dataframe thead tr:last-of-type th {\n",
       "        text-align: right;\n",
       "    }\n",
       "</style>\n",
       "<table border=\"1\" class=\"dataframe\">\n",
       "  <thead>\n",
       "    <tr>\n",
       "      <th></th>\n",
       "      <th colspan=\"5\" halign=\"left\">Tumor Volume (mm3)</th>\n",
       "    </tr>\n",
       "    <tr>\n",
       "      <th></th>\n",
       "      <th>mean</th>\n",
       "      <th>median</th>\n",
       "      <th>var</th>\n",
       "      <th>std</th>\n",
       "      <th>sem</th>\n",
       "    </tr>\n",
       "    <tr>\n",
       "      <th>Drug Regimen</th>\n",
       "      <th></th>\n",
       "      <th></th>\n",
       "      <th></th>\n",
       "      <th></th>\n",
       "      <th></th>\n",
       "    </tr>\n",
       "  </thead>\n",
       "  <tbody>\n",
       "    <tr>\n",
       "      <th>Capomulin</th>\n",
       "      <td>40.675741</td>\n",
       "      <td>41.557809</td>\n",
       "      <td>24.947764</td>\n",
       "      <td>4.994774</td>\n",
       "      <td>0.329346</td>\n",
       "    </tr>\n",
       "    <tr>\n",
       "      <th>Ceftamin</th>\n",
       "      <td>52.591172</td>\n",
       "      <td>51.776157</td>\n",
       "      <td>39.290177</td>\n",
       "      <td>6.268188</td>\n",
       "      <td>0.469821</td>\n",
       "    </tr>\n",
       "    <tr>\n",
       "      <th>Infubinol</th>\n",
       "      <td>52.884795</td>\n",
       "      <td>51.820584</td>\n",
       "      <td>43.128684</td>\n",
       "      <td>6.567243</td>\n",
       "      <td>0.492236</td>\n",
       "    </tr>\n",
       "    <tr>\n",
       "      <th>Ketapril</th>\n",
       "      <td>55.235638</td>\n",
       "      <td>53.698743</td>\n",
       "      <td>68.553577</td>\n",
       "      <td>8.279709</td>\n",
       "      <td>0.603860</td>\n",
       "    </tr>\n",
       "    <tr>\n",
       "      <th>Naftisol</th>\n",
       "      <td>54.331565</td>\n",
       "      <td>52.509285</td>\n",
       "      <td>66.173479</td>\n",
       "      <td>8.134708</td>\n",
       "      <td>0.596466</td>\n",
       "    </tr>\n",
       "    <tr>\n",
       "      <th>Placebo</th>\n",
       "      <td>54.033581</td>\n",
       "      <td>52.288934</td>\n",
       "      <td>61.168083</td>\n",
       "      <td>7.821003</td>\n",
       "      <td>0.581331</td>\n",
       "    </tr>\n",
       "    <tr>\n",
       "      <th>Propriva</th>\n",
       "      <td>52.393463</td>\n",
       "      <td>50.909965</td>\n",
       "      <td>43.138803</td>\n",
       "      <td>6.568014</td>\n",
       "      <td>0.525862</td>\n",
       "    </tr>\n",
       "    <tr>\n",
       "      <th>Ramicane</th>\n",
       "      <td>40.216745</td>\n",
       "      <td>40.673236</td>\n",
       "      <td>23.486704</td>\n",
       "      <td>4.846308</td>\n",
       "      <td>0.320955</td>\n",
       "    </tr>\n",
       "    <tr>\n",
       "      <th>Stelasyn</th>\n",
       "      <td>54.233149</td>\n",
       "      <td>52.431737</td>\n",
       "      <td>59.450562</td>\n",
       "      <td>7.710419</td>\n",
       "      <td>0.573111</td>\n",
       "    </tr>\n",
       "    <tr>\n",
       "      <th>Zoniferol</th>\n",
       "      <td>53.236507</td>\n",
       "      <td>51.818479</td>\n",
       "      <td>48.533355</td>\n",
       "      <td>6.966589</td>\n",
       "      <td>0.516398</td>\n",
       "    </tr>\n",
       "  </tbody>\n",
       "</table>\n",
       "</div>"
      ],
      "text/plain": [
       "             Tumor Volume (mm3)                                          \n",
       "                           mean     median        var       std       sem\n",
       "Drug Regimen                                                             \n",
       "Capomulin             40.675741  41.557809  24.947764  4.994774  0.329346\n",
       "Ceftamin              52.591172  51.776157  39.290177  6.268188  0.469821\n",
       "Infubinol             52.884795  51.820584  43.128684  6.567243  0.492236\n",
       "Ketapril              55.235638  53.698743  68.553577  8.279709  0.603860\n",
       "Naftisol              54.331565  52.509285  66.173479  8.134708  0.596466\n",
       "Placebo               54.033581  52.288934  61.168083  7.821003  0.581331\n",
       "Propriva              52.393463  50.909965  43.138803  6.568014  0.525862\n",
       "Ramicane              40.216745  40.673236  23.486704  4.846308  0.320955\n",
       "Stelasyn              54.233149  52.431737  59.450562  7.710419  0.573111\n",
       "Zoniferol             53.236507  51.818479  48.533355  6.966589  0.516398"
      ]
     },
     "execution_count": 10,
     "metadata": {},
     "output_type": "execute_result"
    }
   ],
   "source": [
    "#here I want to a groupby with a .agg, I think that will be the easiest to code as opposed to \n",
    "# creating a bunch of variables for the summary stats by regimen. \n",
    "clean_df.groupby('Drug Regimen').agg({'Tumor Volume (mm3)': ['mean', 'median','var','std','sem']})"
   ]
  },
  {
   "cell_type": "markdown",
   "metadata": {},
   "source": [
    "# Bar Plot\n",
    "1) Generate a bar plot showing the number of mice per time point for \n",
    "each treatment throughout the course of the study using pandas.\n",
    "\n",
    "2) Generate a bar plot showing the number of mice per time point \n",
    "for each treatment throughout the course of the study using pyplot. "
   ]
  },
  {
   "cell_type": "code",
   "execution_count": 263,
   "metadata": {},
   "outputs": [
    {
     "data": {
      "image/png": "[encoded data removed]",
      "text/plain": [
       "<Figure size 576x432 with 1 Axes>"
      ]
     },
     "metadata": {
      "needs_background": "light"
     },
     "output_type": "display_data"
    },
    {
     "data": {
      "image/png": "[encoded data removed]",
      "text/plain": [
       "<Figure size 576x432 with 1 Axes>"
      ]
     },
     "metadata": {
      "needs_background": "light"
     },
     "output_type": "display_data"
    }
   ],
   "source": [
    "#Bar plot using Pandas:\n",
    "# I want to do a groupby for regimen, then Mouse ID. This should show me mouse per regimen pretty simply. \n",
    "xgroup = clean_df.groupby('Drug Regimen')\n",
    "ygroup =xgroup['Mouse ID'].count()\n",
    "#Plot figure size and barchart\n",
    "plt.figure(figsize=(8,6))\n",
    "barchart = ygroup.plot(kind=\"bar\", title=\"Number of Mice Timecounts by regimen over the study\", stacked=True,\\\n",
    "                      facecolor='blue',alpha=.8, width = .5)\n",
    "#limits\n",
    "plt.xlim=(-0.25,len(x_axis))\n",
    "plt.ylim(0, max(ygroup) + 10)\n",
    "#limits\n",
    "barchart.set_xlabel(\"Drug Regimens\")\n",
    "barchart.set_ylabel(\"Sum of Timepoints for Mice\")\n",
    "\n",
    "# Bonus Second Graph:\n",
    "# This represents each regimens' mice count over each timepoint. I originally thought, due to some vague wording,\n",
    "# that we needed to represent the number of mice each regimen had over the timepoints. I liked how this turned\n",
    "# out, and think it is informitive, so I kept it as a bonus graph. \n",
    "#https://stackoverflow.com/questions/26683654/making-a-stacked-barchart-in-pandas\n",
    "aliveovertimegroup = clean_df.groupby(['Timepoint','Drug Regimen'])['Mouse ID'].count().unstack()\\\n",
    ".plot(kind='bar', stacked=True, figsize = (8,6), title = \"Bonus: Number of mice per timepoint by regimen\")\n",
    "#Labels\n",
    "aliveovertimegroup.set_ylabel(\"Number of Mice\")\n",
    "aliveovertimegroup.set_xlabel(\"Timepoints\")\n",
    "plt.show()"
   ]
  },
  {
   "cell_type": "code",
   "execution_count": 12,
   "metadata": {},
   "outputs": [
    {
     "data": {
      "text/plain": [
       "Text(0.5, 0, 'Drug Regimens')"
      ]
     },
     "execution_count": 12,
     "metadata": {},
     "output_type": "execute_result"
    },
    {
     "data": {
      "image/png": "[encoded data removed]",
      "text/plain": [
       "<Figure size 576x432 with 1 Axes>"
      ]
     },
     "metadata": {
      "needs_background": "light"
     },
     "output_type": "display_data"
    }
   ],
   "source": [
    "# Bar plot using Pyplot:\n",
    "# I will want to set a new variable to the cleaned DF and find the unique values for drug regimen. \n",
    "regimen_count = clean_df[\"Drug Regimen\"].unique()\n",
    "sort_regimen = regimen_count.sort()\n",
    "x_axis = np.arange(0,len(regimen_count))\n",
    "tick_locations = [i for i in x_axis]\n",
    "#Plot the figure size, barchart, and some formatting/styling to make it identical to the bar graph above\n",
    "plt.figure(figsize=(8,6))\n",
    "plt.bar(regimen_count, ygroup,alpha=0.8,color='blue',align='center',width=.5)\n",
    "plt.xticks(tick_locations,regimen_count, rotation='vertical')\n",
    "#limits\n",
    "plt.xlim=(-0.25,len(x_axis))\n",
    "plt.ylim(0, max(ygroup) + 10)\n",
    "\n",
    "plt.title(\"Number of Mice Timecounts by regimen over the study\")\n",
    "plt.ylabel(\"Sum of Timepoints for Mice\")\n",
    "plt.xlabel(\"Drug Regimens\")"
   ]
  },
  {
   "cell_type": "markdown",
   "metadata": {},
   "source": [
    "## Pie Plots\n",
    "1) Generate a pie plot showing the distribution of female versus male mice using pandas\n",
    "\n",
    "2) Generate a pie plot showing the distribution of female versus male mice using pyplot"
   ]
  },
  {
   "cell_type": "code",
   "execution_count": 266,
   "metadata": {},
   "outputs": [
    {
     "name": "stdout",
     "output_type": "stream",
     "text": [
      "Sex\n",
      "Female    124\n",
      "Male      125\n",
      "Name: Mouse ID, dtype: int64\n"
     ]
    },
    {
     "data": {
      "image/png": "[encoded data removed]",
      "text/plain": [
       "<Figure size 432x288 with 1 Axes>"
      ]
     },
     "metadata": {},
     "output_type": "display_data"
    },
    {
     "data": {
      "text/plain": [
       "<Figure size 432x288 with 0 Axes>"
      ]
     },
     "metadata": {},
     "output_type": "display_data"
    }
   ],
   "source": [
    "#Pie plot: Pandas\n",
    "# Collect the sex breakdown of the mice\n",
    "sexgroup = clean_df['Mouse ID'].groupby([clean_df['Sex']]).nunique()\n",
    "print(sexgroup)\n",
    "\n",
    "# Place the gender keys for that single bike into a list\n",
    "sex_list = sexgroup.keys()\n",
    "explode = [0.05,0]\n",
    "\n",
    "# Create a pie chart based upon sex breakdown\n",
    "sex_pie = sexgroup.plot(kind=\"pie\", y=sex_list, title= \"Sex of Mice\",autopct='%2.2f%%',\\\n",
    "                       explode = explode, shadow=True)\n",
    "sex_pie.set_ylabel(\"Distribution of Male versus Female\")\n",
    "#show plot\n",
    "plt.show()\n",
    "plt.tight_layout()\n"
   ]
  },
  {
   "cell_type": "code",
   "execution_count": 268,
   "metadata": {},
   "outputs": [
    {
     "name": "stdout",
     "output_type": "stream",
     "text": [
      "Sex\n",
      "Female    124\n",
      "Male      125\n",
      "Name: Mouse ID, dtype: int64\n"
     ]
    },
    {
     "data": {
      "text/plain": [
       "Text(0, 0.5, 'Distribution of Male versus Female')"
      ]
     },
     "execution_count": 268,
     "metadata": {},
     "output_type": "execute_result"
    },
    {
     "data": {
      "image/png": "[encoded data removed]",
      "text/plain": [
       "<Figure size 432x288 with 1 Axes>"
      ]
     },
     "metadata": {},
     "output_type": "display_data"
    }
   ],
   "source": [
    "#Pie plot: Pyplot\n",
    "#This pie chart needs to look identical to the pie chart above so I will use the same colors and formatting. \n",
    "#https://stackoverflow.com/questions/38309729/count-unique-values-with-pandas-per-groups/38309807\n",
    "print(sexgroup)\n",
    "explode = [0.05,0]\n",
    "labels = ['Female','Male']\n",
    "plt.pie(sexgroup, explode=explode, labels=labels, autopct='%2.2f%%',startangle=0,shadow=True)\n",
    "plt.title(\"Sex of Mice\")\n",
    "plt.ylabel(\"Distribution of Male versus Female\")\n",
    "\n",
    "#plt.show"
   ]
  },
  {
   "cell_type": "markdown",
   "metadata": {},
   "source": [
    "## Quartiles, Outliers and Boxplots\n",
    "1) Calculate the final tumor volume of each mouse across four of the most promising treatment regimens. \n",
    "Calculate the IQR and quantitatively determine if there are any potential outliers. \n",
    "\n",
    "2) Generate a box plot of the final tumor volume of each mouse across four regimens of interest"
   ]
  },
  {
   "cell_type": "code",
   "execution_count": 15,
   "metadata": {},
   "outputs": [],
   "source": [
    "# Calculate the final tumor volume of each mouse across four of the most promising treatment regimens.  \n",
    "#Find the last column of each Mouse ID\n",
    "final_tumor = clean_df.groupby('Mouse ID').agg(['last']).stack()\n",
    "#Now I need to locate where the drug equals the four most promising: Capomulin, Ramicane, Infubinol, and Ceftamin\n",
    "# I am going to assign this list to a new variable. I want to do a .loc and build one DF containing the four promsing\n",
    "# treatments. \n",
    "regimen_df = final_tumor.loc[(final_tumor['Drug Regimen'] == 'Capomulin')\\\n",
    "                              | (final_tumor['Drug Regimen'] == 'Ramicane')\\\n",
    "                             | (final_tumor['Drug Regimen'] == 'Infubinol')\\\n",
    "                             | (final_tumor['Drug Regimen'] == 'Ceftamin')]\n",
    "#drop the columns not associated with Mouse ID, Regimen, and Tumor Volume\n",
    "cleanregimen_df = regimen_df.drop(regimen_df.columns[[1,2,3,4,6]], axis=1)\n",
    "#Create individual dataframes for each regimen. This is a bit tedious but I'd like to call from individual DFs. \n",
    "capomulin_df = cleanregimen_df.loc[cleanregimen_df['Drug Regimen']== 'Capomulin']\n",
    "ramicane_df = cleanregimen_df.loc[cleanregimen_df['Drug Regimen']== 'Ramicane']\n",
    "infubinol_df = cleanregimen_df.loc[cleanregimen_df['Drug Regimen']== 'Infubinol']\n",
    "ceftamin_df = cleanregimen_df.loc[cleanregimen_df['Drug Regimen']== 'Ceftamin']"
   ]
  },
  {
   "cell_type": "code",
   "execution_count": 271,
   "metadata": {},
   "outputs": [
    {
     "name": "stdout",
     "output_type": "stream",
     "text": [
      "-----The lower quartile of tumor volume is:------\n",
      "Capomulin: 32.37735684\n",
      "Ramicane: 31.56046955\n",
      "Infubinol: 54.04860769\n",
      "Ceftamin: 48.72207785\n",
      "-----The upper quartile of tumor volume is:------\n",
      "Capomulin: 40.1592203\n",
      "Ramicane: 40.65900627\n",
      "Infubinol: 65.52574285\n",
      "Ceftamin: 64.29983003\n",
      "-----The interquartile range of tumor volume is:-------\n",
      "Capomulin: 7.781863460000004\n",
      "Ramicane: 8.281649430000002\n",
      "Infubinol: 33.14838601\n",
      "Ceftamin: 31.922473189999998\n",
      "-----The the median of tumor volume is------\n",
      "Capomulin: 38.125164399999996\n",
      "Ramicane: 36.56165229\n",
      "Infubinol: 60.16518046\n",
      "Ceftamin: 59.85195552\n",
      "-----Values below could be outliers------\n",
      "Capomulin: 20.70456164999999\n",
      "Ramicane: 19.137995404999998\n",
      "Infubinol: 4.326028674999989\n",
      "Ceftamin: 0.8383680650000045\n",
      "-----Values above could be outliers------\n",
      "Capomulin: 51.83201549\n",
      "Ramicane: 53.081480415\n",
      "Infubinol: 115.24832186500001\n",
      "Ceftamin: 112.18353981499999\n"
     ]
    }
   ],
   "source": [
    "# Calculate the IQR and quantitatively determine if there are any potential outliers. A lot of this is identical\n",
    "# to our assignment on IQR. \n",
    "# Establish my tumor volumes for each regimen\n",
    "tumorvolumecap = capomulin_df['Tumor Volume (mm3)']\n",
    "tumorvolumeram = ramicane_df['Tumor Volume (mm3)']\n",
    "tumorvolumeinf = infubinol_df['Tumor Volume (mm3)']\n",
    "tumorvolumecef = ceftamin_df['Tumor Volume (mm3)']\n",
    "# Establish the quartiles for each regimen\n",
    "quartilescap = tumorvolumecap.quantile([.25,.5,.75])\n",
    "quartilesram = tumorvolumeram.quantile([.25,.5,.75])\n",
    "quartilesinf = tumorvolumeinf.quantile([.25,.5,.75])\n",
    "quartilescef = tumorvolumecef.quantile([.25,.5,.75])\n",
    "#lower quartiles\n",
    "lowerqcap = quartilescap[0.25]\n",
    "lowerqram = quartilesram[0.25]\n",
    "lowerqinf = quartilesinf[0.25]\n",
    "lowerqcef = quartilescef[0.25]\n",
    "#upper quartiles\n",
    "upperqcap = quartilescap[0.75]\n",
    "upperqram = quartilesram[0.75]\n",
    "upperqinf = quartilesinf[0.75]\n",
    "upperqcef = quartilescef[0.75]\n",
    "#IQR\n",
    "iqrcap = upperqcap-lowerqcap\n",
    "iqrram = upperqram-lowerqcap\n",
    "iqrinf = upperqinf-lowerqcap\n",
    "iqrcef = upperqcef-lowerqcap\n",
    "#Variables for f-strings to call further down\n",
    "a = \"-----The lower quartile of tumor volume is:------\"\n",
    "b = \"-----The upper quartile of tumor volume is:------\"\n",
    "c = \"-----The interquartile range of tumor volume is:-------\"\n",
    "d = \"-----The the median of tumor volume is------\"\n",
    "e = \"-----Values below could be outliers------\"\n",
    "f = \"-----Values above could be outliers------\"\n",
    "#Print out what I want to read out for each drug \n",
    "print(f\"{a}\\nCapomulin: {lowerqcap}\\nRamicane: {lowerqram}\\nInfubinol: {lowerqinf}\\nCeftamin: {lowerqcef}\")\n",
    "print(f\"{b}\\nCapomulin: {upperqcap}\\nRamicane: {upperqram}\\nInfubinol: {upperqinf}\\nCeftamin: {upperqcef}\")\n",
    "print(f\"{c}\\nCapomulin: {iqrcap}\\nRamicane: {iqrram}\\nInfubinol: {iqrinf}\\nCeftamin: {iqrcef}\")\n",
    "print(f\"{d}\\nCapomulin: {quartilescap[0.5]}\\nRamicane: {quartilesram[0.5]}\\nInfubinol: {quartilesinf[0.5]}\\\n",
    "\\nCeftamin: {quartilescef[0.5]}\")\n",
    "#Outlier bounds\n",
    "lower_boundcap = lowerqcap - (1.5*iqrcap)\n",
    "upper_boundcap = upperqcap + (1.5*iqrcap)\n",
    "lower_boundram = lowerqram - (1.5*iqrram)\n",
    "upper_boundram = upperqram + (1.5*iqrram)\n",
    "lower_boundinf = lowerqinf - (1.5*iqrinf)\n",
    "upper_boundinf = upperqinf + (1.5*iqrinf)\n",
    "lower_boundcef = lowerqcef - (1.5*iqrcef)\n",
    "upper_boundcef = upperqcef + (1.5*iqrcef)\n",
    "#print the read outs for the upper and lower bounds for outliers.\n",
    "print(f\"{e}\\nCapomulin: {lower_boundcap}\\nRamicane: {lower_boundram}\\nInfubinol: {lower_boundinf}\\nCeftamin: {lower_boundcef}\")\n",
    "print(f\"{f}\\nCapomulin: {upper_boundcap}\\nRamicane: {upper_boundram}\\nInfubinol: {upper_boundinf}\\nCeftamin: {upper_boundcef}\")\n",
    "#This was tedious"
   ]
  },
  {
   "cell_type": "code",
   "execution_count": 17,
   "metadata": {
    "scrolled": true
   },
   "outputs": [
    {
     "data": {
      "text/plain": [
       "Text(0.5, 0, 'Drug Regimens')"
      ]
     },
     "execution_count": 17,
     "metadata": {},
     "output_type": "execute_result"
    },
    {
     "data": {
      "image/png": "[encoded data removed]",
      "text/plain": [
       "<Figure size 432x288 with 1 Axes>"
      ]
     },
     "metadata": {
      "needs_background": "light"
     },
     "output_type": "display_data"
    }
   ],
   "source": [
    "# Generate a box plot of the final tumor volume of each mouse across four regimens of interest\n",
    "# https://pandas.pydata.org/pandas-docs/stable/reference/api/pandas.DataFrame.boxplot.html\n",
    "# I am thinking I want to make a new variable and convert it to a dictionary, the link above goes that route\n",
    "# and I think I favor it. \n",
    "box_df = pd.DataFrame({\"Capomulin\":tumorvolumecap,\"Ramicane\":tumorvolumeram,\\\n",
    "                       \"Infubinol\":tumorvolumeinf,\"Ceftamin\":tumorvolumecef})\n",
    "# style and change the outlier color and shape so it stands out. \n",
    "style = dict(markerfacecolor='black', markersize='8', marker = 's')\n",
    "#Now make a boxplot variable calling the columns from the new DF with some other formatting:\n",
    "boxplot = box_df.boxplot(['Capomulin','Ramicane','Infubinol','Ceftamin'],fontsize=12,color='k',\\\n",
    "                         showmeans=True, flierprops = style)\n",
    "# Set title and labels\n",
    "boxplot.set_title('Tumor Volume of Mice Across Four Promising Regimen')\n",
    "boxplot.set_ylabel('Tumor Volume (mm3)')\n",
    "boxplot.set_xlabel('Drug Regimens')"
   ]
  },
  {
   "cell_type": "markdown",
   "metadata": {},
   "source": [
    "## Line and Scatter Plots\n",
    "1) Generate a line plot of time point versus tumor volume for a mouse treated with Capomulin\n",
    "\n",
    "2) Generate a scatter plot of mouse weight versus average tumor volume for the Capomulin regimen"
   ]
  },
  {
   "cell_type": "code",
   "execution_count": 143,
   "metadata": {},
   "outputs": [
    {
     "data": {
      "text/plain": [
       "<matplotlib.legend.Legend at 0x7f91a6a9e898>"
      ]
     },
     "execution_count": 143,
     "metadata": {},
     "output_type": "execute_result"
    },
    {
     "data": {
      "image/png": "[encoded data removed]",
      "text/plain": [
       "<Figure size 432x288 with 1 Axes>"
      ]
     },
     "metadata": {
      "needs_background": "light"
     },
     "output_type": "display_data"
    }
   ],
   "source": [
    "# Generate a line plot of time point versus tumor volume for a mouse treated with Capomulin\n",
    "# I need to line plot this dataframe: capomulin_df --These are all the mice on Capomulin, I need to pick one\n",
    "#locate the mouse I want\n",
    "mousetumor = clean_df.loc[clean_df['Mouse ID'] == 'y793']\n",
    "# y-variable\n",
    "tumorvol = mousetumor[\"Tumor Volume (mm3)\"]\n",
    "# x-variable\n",
    "time = mousetumor['Timepoint']\n",
    "#plot the line graph and add some style/formatting. I like the dotted line here to represent the tumor volume as \n",
    "# opposed to a single solid line. \n",
    "poormouse, =plt.plot(time, tumorvol, linewidth=2, color='black', label='y793: Tumor Volume', linestyle = ':')\n",
    "#Label and legend \n",
    "plt.title(\"Capomulin Treatment of Mouse y793\")\n",
    "plt.xlabel(\"Timepoint (days)\")\n",
    "plt.ylabel(\"Tumor Volume (mm3)\")   \n",
    "plt.legend(handles=[poormouse], loc=\"best\") "
   ]
  },
  {
   "cell_type": "code",
   "execution_count": 276,
   "metadata": {},
   "outputs": [
    {
     "data": {
      "text/plain": [
       "Text(0, 0.5, 'Average Tumor Volume (mm3)')"
      ]
     },
     "execution_count": 276,
     "metadata": {},
     "output_type": "execute_result"
    },
    {
     "data": {
      "image/png": "[encoded data removed]",
      "text/plain": [
       "<Figure size 432x360 with 1 Axes>"
      ]
     },
     "metadata": {
      "needs_background": "light"
     },
     "output_type": "display_data"
    }
   ],
   "source": [
    "# Generate a scatter plot of mouse weight versus average tumor volume for the Capomulin regimen\n",
    "# Variables/Columns = Weight and Average Tumor Size  \n",
    "# Locate all capomulins from my clean DF, then find the mean of the tumor volume along with weight. \n",
    "fullcapo = clean_df.loc[clean_df['Drug Regimen']=='Capomulin']\n",
    "weightvstumor = fullcapo.groupby(\"Mouse ID\").agg({'Tumor Volume (mm3)': ['mean'], 'Weight (g)':['mean']})\n",
    "weightvstumor.plot(kind=\"scatter\", x=\"Weight (g)\", y=\"Tumor Volume (mm3)\", grid=False, figsize=(6,5),\n",
    "              title=\"Mouse weight versus avg Tumor Size on Capomulin\")\n",
    "# label\n",
    "plt.xlabel(\"Weight (g)\")\n",
    "plt.ylabel(\"Average Tumor Volume (mm3)\")\n",
    "\n"
   ]
  },
  {
   "cell_type": "markdown",
   "metadata": {},
   "source": [
    "## Correlation and Regression\n",
    "1) Calculate the correlation coefficient and linear regression model \n",
    "for mouse weight and average tumor volume for the Capomulin regimen"
   ]
  },
  {
   "cell_type": "code",
   "execution_count": 279,
   "metadata": {},
   "outputs": [
    {
     "name": "stdout",
     "output_type": "stream",
     "text": [
      "The correlation coefficient between weight and tumor volume is: 0.84\n",
      "The slope and intercept are: 0.95 , 21.55\n"
     ]
    },
    {
     "data": {
      "image/png": "[encoded data removed]",
      "text/plain": [
       "<Figure size 432x288 with 1 Axes>"
      ]
     },
     "metadata": {
      "needs_background": "light"
     },
     "output_type": "display_data"
    }
   ],
   "source": [
    "# Calculate the correlation coefficient and linear regression model \n",
    "# for mouse weight and average tumor volume for the Capomulin regimen\n",
    "# This will be similar to Day 3 instructor review on regression and correlation. \n",
    "#Establish my x and y values\n",
    "x_values = weightvstumor['Weight (g)']\n",
    "y_values = weightvstumor['Tumor Volume (mm3)']\n",
    "# I had to call the columsn from the x and y values since it was also wanting to pull in the mouse ID and then cause\n",
    "# too many arguments. \n",
    "(slope, intercept, rvalue, pvalue, stderr) = st.linregress(x_values['mean'],y_values['mean'])\n",
    "regress_values = x_values * slope + intercept\n",
    "#create the line equation for slope, this will need to be displayed with my line in the plot. \n",
    "line_eq = \"y = \" + str(round(slope,2)) + \"x + \" + str(round(intercept,2))\n",
    "#plot and format\n",
    "plt.scatter(x_values,y_values)\n",
    "plt.plot(x_values,regress_values,\"red\")\n",
    "plt.annotate(line_eq,(22,38), fontsize=9,color=\"red\")\n",
    "#label\n",
    "plt.xlabel('Weight (g)')\n",
    "plt.ylabel('Average Tumor Volume (mm3)')\n",
    "plt.title(\"Mouse weight versus avg Tumor Size on Capomulin\")\n",
    "xlim=(0,50)\n",
    "ylim=(30,50)\n",
    "#print my correlation coefficient. I am also including what my slope and intercept are, this is also in the plot. \n",
    "print(f'The correlation coefficient between weight and tumor volume is: {round((rvalue),2)}')\n",
    "print(f'The slope and intercept are: {round((slope),2)} , {round((intercept),2)}')"
   ]
  }
 ],
 "metadata": {
  "anaconda-cloud": {},
  "kernelspec": {
   "display_name": "Python [conda env:PythonData] *",
   "language": "python",
   "name": "conda-env-PythonData-py"
  },
  "language_info": {
   "codemirror_mode": {
    "name": "ipython",
    "version": 3
   },
   "file_extension": ".py",
   "mimetype": "text/x-python",
   "name": "python",
   "nbconvert_exporter": "python",
   "pygments_lexer": "ipython3",
   "version": "3.6.10"
  }
 },
 "nbformat": 4,
 "nbformat_minor": 2
}
