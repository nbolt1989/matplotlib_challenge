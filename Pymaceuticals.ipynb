{
 "cells": [
  {
   "cell_type": "markdown",
   "metadata": {},
   "source": [
    "## Observations and Insights \n",
    "•Observation One: Capomulin and Ramicane had the lowest SEMs, standard deviations, and average tumor size. By having these stats, Ramicane and Capomulin are likely the most effective drug regimens. \n",
    "\n",
    "•Observation Two: Propriva had the fewest total number of mice across all timepoints, indicating some ineffectiveness with this treatment since mice were dying off sooner versus other treatments. \n",
    "\n",
    "•Observation Three: There is a strong correlation between mouse weight and average tumor size on the drug regimen capomulin; correlation coefficient is .84. \n",
    "\n",
    "General notes: There was a lot of confusion about whether or not to remove all of the mouse that had duplicates or\n",
    "simply just the duplicates. I originally only removed the duplicates but soon had a change of heart. I ultimately removed the entire mouse ID from the data because it felt tainted. In a real world situation I would try to get at the heart of the issue but since we are in a homework vacuum, that was not the case. \n",
    "\n",
    "On a second note, I felt the barchart was more appealing in alphabetical order. I understand the sort from highest to lowest and seeing the drugs in descending order, but alphabetical order gives the same effect highlighting which is worst/best, and is sorted in a second way. For more details, I have commented in my code blocks. "
   ]
  },
  {
   "cell_type": "markdown",
   "metadata": {},
   "source": [
    "\n"
   ]
  },
  {
   "cell_type": "code",
   "execution_count": 2,
   "metadata": {},
   "outputs": [],
   "source": [
    "# Dependencies and Setup\n",
    "import matplotlib.pyplot as plt\n",
    "import pandas as pd\n",
    "import scipy.stats as st\n",
    "import numpy as np\n",
    "import scipy.stats as linregress\n",
    "\n",
    "# Study data files\n",
    "mouse_metadata_path = \"Resources/Mouse_metadata.csv\"\n",
    "study_results_path = \"Resources/Study_results.csv\"\n",
    "\n",
    "# Read the mouse data and the study results\n",
    "mouse_metadata = pd.read_csv(mouse_metadata_path)\n",
    "study_results = pd.read_csv(study_results_path)\n",
    "\n",
    "# Combine the data into a single dataset\n",
    "#The two datasets share 'Mouse ID' so I am going to merge the sets on that column.\n",
    "merged_df = pd.merge(mouse_metadata, study_results, on='Mouse ID')"
   ]
  },
  {
   "cell_type": "markdown",
   "metadata": {},
   "source": [
    "# Check for Duplicate mice and clean the Dataframe\n",
    "Checking the number of mice in the DataFrame."
   ]
  },
  {
   "cell_type": "code",
   "execution_count": 3,
   "metadata": {},
   "outputs": [
    {
     "data": {
      "text/plain": [
       "249"
      ]
     },
     "execution_count": 3,
     "metadata": {},
     "output_type": "execute_result"
    }
   ],
   "source": [
    "#This will quickly show me how many unique Mouse IDs there are. \n",
    "merged_df['Mouse ID'].nunique()"
   ]
  },
  {
   "cell_type": "code",
   "execution_count": 4,
   "metadata": {},
   "outputs": [
    {
     "data": {
      "text/plain": [
       "0     250\n",
       "5     238\n",
       "10    223\n",
       "15    207\n",
       "20    195\n",
       "25    183\n",
       "30    171\n",
       "35    154\n",
       "40    142\n",
       "45    130\n",
       "Name: Timepoint, dtype: int64"
      ]
     },
     "execution_count": 4,
     "metadata": {},
     "output_type": "execute_result"
    }
   ],
   "source": [
    "# Checking the number of mice in the DataFrame.\n",
    "# If we compare to a .nunique (like above) for Mouse ID we find that there are 249 unique mice IDs, but\n",
    "# 250 show up if we do a value_counts. So there appears to be a discrepancy from at least the 0 timepoint on.\n",
    "merged_df['Mouse ID'].value_counts()\n",
    "merged_df['Timepoint'].value_counts()"
   ]
  },
  {
   "cell_type": "code",
   "execution_count": 5,
   "metadata": {},
   "outputs": [
    {
     "data": {
      "text/html": [
       "<div>\n",
       "<style scoped>\n",
       "    .dataframe tbody tr th:only-of-type {\n",
       "        vertical-align: middle;\n",
       "    }\n",
       "\n",
       "    .dataframe tbody tr th {\n",
       "        vertical-align: top;\n",
       "    }\n",
       "\n",
       "    .dataframe thead th {\n",
       "        text-align: right;\n",
       "    }\n",
       "</style>\n",
       "<table border=\"1\" class=\"dataframe\">\n",
       "  <thead>\n",
       "    <tr style=\"text-align: right;\">\n",
       "      <th></th>\n",
       "      <th>Mouse ID</th>\n",
       "      <th>Drug Regimen</th>\n",
       "      <th>Sex</th>\n",
       "      <th>Age_months</th>\n",
       "      <th>Weight (g)</th>\n",
       "      <th>Timepoint</th>\n",
       "      <th>Tumor Volume (mm3)</th>\n",
       "      <th>Metastatic Sites</th>\n",
       "    </tr>\n",
       "  </thead>\n",
       "  <tbody>\n",
       "    <tr>\n",
       "      <th>908</th>\n",
       "      <td>g989</td>\n",
       "      <td>Propriva</td>\n",
       "      <td>Female</td>\n",
       "      <td>21</td>\n",
       "      <td>26</td>\n",
       "      <td>0</td>\n",
       "      <td>45.000000</td>\n",
       "      <td>0</td>\n",
       "    </tr>\n",
       "    <tr>\n",
       "      <th>909</th>\n",
       "      <td>g989</td>\n",
       "      <td>Propriva</td>\n",
       "      <td>Female</td>\n",
       "      <td>21</td>\n",
       "      <td>26</td>\n",
       "      <td>0</td>\n",
       "      <td>45.000000</td>\n",
       "      <td>0</td>\n",
       "    </tr>\n",
       "    <tr>\n",
       "      <th>910</th>\n",
       "      <td>g989</td>\n",
       "      <td>Propriva</td>\n",
       "      <td>Female</td>\n",
       "      <td>21</td>\n",
       "      <td>26</td>\n",
       "      <td>5</td>\n",
       "      <td>48.786801</td>\n",
       "      <td>0</td>\n",
       "    </tr>\n",
       "    <tr>\n",
       "      <th>911</th>\n",
       "      <td>g989</td>\n",
       "      <td>Propriva</td>\n",
       "      <td>Female</td>\n",
       "      <td>21</td>\n",
       "      <td>26</td>\n",
       "      <td>5</td>\n",
       "      <td>47.570392</td>\n",
       "      <td>0</td>\n",
       "    </tr>\n",
       "    <tr>\n",
       "      <th>912</th>\n",
       "      <td>g989</td>\n",
       "      <td>Propriva</td>\n",
       "      <td>Female</td>\n",
       "      <td>21</td>\n",
       "      <td>26</td>\n",
       "      <td>10</td>\n",
       "      <td>51.745156</td>\n",
       "      <td>0</td>\n",
       "    </tr>\n",
       "    <tr>\n",
       "      <th>913</th>\n",
       "      <td>g989</td>\n",
       "      <td>Propriva</td>\n",
       "      <td>Female</td>\n",
       "      <td>21</td>\n",
       "      <td>26</td>\n",
       "      <td>10</td>\n",
       "      <td>49.880528</td>\n",
       "      <td>0</td>\n",
       "    </tr>\n",
       "    <tr>\n",
       "      <th>914</th>\n",
       "      <td>g989</td>\n",
       "      <td>Propriva</td>\n",
       "      <td>Female</td>\n",
       "      <td>21</td>\n",
       "      <td>26</td>\n",
       "      <td>15</td>\n",
       "      <td>51.325852</td>\n",
       "      <td>1</td>\n",
       "    </tr>\n",
       "    <tr>\n",
       "      <th>915</th>\n",
       "      <td>g989</td>\n",
       "      <td>Propriva</td>\n",
       "      <td>Female</td>\n",
       "      <td>21</td>\n",
       "      <td>26</td>\n",
       "      <td>15</td>\n",
       "      <td>53.442020</td>\n",
       "      <td>0</td>\n",
       "    </tr>\n",
       "    <tr>\n",
       "      <th>916</th>\n",
       "      <td>g989</td>\n",
       "      <td>Propriva</td>\n",
       "      <td>Female</td>\n",
       "      <td>21</td>\n",
       "      <td>26</td>\n",
       "      <td>20</td>\n",
       "      <td>55.326122</td>\n",
       "      <td>1</td>\n",
       "    </tr>\n",
       "    <tr>\n",
       "      <th>917</th>\n",
       "      <td>g989</td>\n",
       "      <td>Propriva</td>\n",
       "      <td>Female</td>\n",
       "      <td>21</td>\n",
       "      <td>26</td>\n",
       "      <td>20</td>\n",
       "      <td>54.657650</td>\n",
       "      <td>1</td>\n",
       "    </tr>\n",
       "  </tbody>\n",
       "</table>\n",
       "</div>"
      ],
      "text/plain": [
       "    Mouse ID Drug Regimen     Sex  Age_months  Weight (g)  Timepoint  \\\n",
       "908     g989     Propriva  Female          21          26          0   \n",
       "909     g989     Propriva  Female          21          26          0   \n",
       "910     g989     Propriva  Female          21          26          5   \n",
       "911     g989     Propriva  Female          21          26          5   \n",
       "912     g989     Propriva  Female          21          26         10   \n",
       "913     g989     Propriva  Female          21          26         10   \n",
       "914     g989     Propriva  Female          21          26         15   \n",
       "915     g989     Propriva  Female          21          26         15   \n",
       "916     g989     Propriva  Female          21          26         20   \n",
       "917     g989     Propriva  Female          21          26         20   \n",
       "\n",
       "     Tumor Volume (mm3)  Metastatic Sites  \n",
       "908           45.000000                 0  \n",
       "909           45.000000                 0  \n",
       "910           48.786801                 0  \n",
       "911           47.570392                 0  \n",
       "912           51.745156                 0  \n",
       "913           49.880528                 0  \n",
       "914           51.325852                 1  \n",
       "915           53.442020                 0  \n",
       "916           55.326122                 1  \n",
       "917           54.657650                 1  "
      ]
     },
     "execution_count": 5,
     "metadata": {},
     "output_type": "execute_result"
    }
   ],
   "source": [
    "# Get the duplicate mice by ID number that shows up for Mouse ID and Timepoint. \n",
    "# Optional: Get all the data for the duplicate mouse ID. \n",
    "# I need to find the ONE duplicate mouse. There is a function that can search what is duplicated that I will use:\n",
    "#https://thispointer.com/pandas-find-duplicate-rows-in-a-dataframe-based-on-all-or-selected-columns-using\n",
    "#-dataframe-duplicated-in-python/#:~:text=To%20find%20%26%20select%20the%20duplicate,argument%20is%20'first').\n",
    "findthedup_df = merged_df[merged_df.duplicated(subset=['Mouse ID','Timepoint'],keep=False)]\n",
    "findthedup_df\n",
    "#This is showing that mouse g989 has duplicated rows up to the 20 timepoint(so 5 actual duplicates)."
   ]
  },
  {
   "cell_type": "code",
   "execution_count": 6,
   "metadata": {},
   "outputs": [
    {
     "data": {
      "text/html": [
       "<div>\n",
       "<style scoped>\n",
       "    .dataframe tbody tr th:only-of-type {\n",
       "        vertical-align: middle;\n",
       "    }\n",
       "\n",
       "    .dataframe tbody tr th {\n",
       "        vertical-align: top;\n",
       "    }\n",
       "\n",
       "    .dataframe thead th {\n",
       "        text-align: right;\n",
       "    }\n",
       "</style>\n",
       "<table border=\"1\" class=\"dataframe\">\n",
       "  <thead>\n",
       "    <tr style=\"text-align: right;\">\n",
       "      <th></th>\n",
       "      <th>Mouse ID</th>\n",
       "      <th>Drug Regimen</th>\n",
       "      <th>Sex</th>\n",
       "      <th>Age_months</th>\n",
       "      <th>Weight (g)</th>\n",
       "      <th>Timepoint</th>\n",
       "      <th>Tumor Volume (mm3)</th>\n",
       "      <th>Metastatic Sites</th>\n",
       "    </tr>\n",
       "  </thead>\n",
       "  <tbody>\n",
       "    <tr>\n",
       "      <th>0</th>\n",
       "      <td>k403</td>\n",
       "      <td>Ramicane</td>\n",
       "      <td>Male</td>\n",
       "      <td>21</td>\n",
       "      <td>16</td>\n",
       "      <td>0</td>\n",
       "      <td>45.000000</td>\n",
       "      <td>0</td>\n",
       "    </tr>\n",
       "    <tr>\n",
       "      <th>1</th>\n",
       "      <td>k403</td>\n",
       "      <td>Ramicane</td>\n",
       "      <td>Male</td>\n",
       "      <td>21</td>\n",
       "      <td>16</td>\n",
       "      <td>5</td>\n",
       "      <td>38.825898</td>\n",
       "      <td>0</td>\n",
       "    </tr>\n",
       "    <tr>\n",
       "      <th>2</th>\n",
       "      <td>k403</td>\n",
       "      <td>Ramicane</td>\n",
       "      <td>Male</td>\n",
       "      <td>21</td>\n",
       "      <td>16</td>\n",
       "      <td>10</td>\n",
       "      <td>35.014271</td>\n",
       "      <td>1</td>\n",
       "    </tr>\n",
       "    <tr>\n",
       "      <th>3</th>\n",
       "      <td>k403</td>\n",
       "      <td>Ramicane</td>\n",
       "      <td>Male</td>\n",
       "      <td>21</td>\n",
       "      <td>16</td>\n",
       "      <td>15</td>\n",
       "      <td>34.223992</td>\n",
       "      <td>1</td>\n",
       "    </tr>\n",
       "    <tr>\n",
       "      <th>4</th>\n",
       "      <td>k403</td>\n",
       "      <td>Ramicane</td>\n",
       "      <td>Male</td>\n",
       "      <td>21</td>\n",
       "      <td>16</td>\n",
       "      <td>20</td>\n",
       "      <td>32.997729</td>\n",
       "      <td>1</td>\n",
       "    </tr>\n",
       "    <tr>\n",
       "      <th>...</th>\n",
       "      <td>...</td>\n",
       "      <td>...</td>\n",
       "      <td>...</td>\n",
       "      <td>...</td>\n",
       "      <td>...</td>\n",
       "      <td>...</td>\n",
       "      <td>...</td>\n",
       "      <td>...</td>\n",
       "    </tr>\n",
       "    <tr>\n",
       "      <th>1888</th>\n",
       "      <td>z969</td>\n",
       "      <td>Naftisol</td>\n",
       "      <td>Male</td>\n",
       "      <td>9</td>\n",
       "      <td>30</td>\n",
       "      <td>25</td>\n",
       "      <td>63.145652</td>\n",
       "      <td>2</td>\n",
       "    </tr>\n",
       "    <tr>\n",
       "      <th>1889</th>\n",
       "      <td>z969</td>\n",
       "      <td>Naftisol</td>\n",
       "      <td>Male</td>\n",
       "      <td>9</td>\n",
       "      <td>30</td>\n",
       "      <td>30</td>\n",
       "      <td>65.841013</td>\n",
       "      <td>3</td>\n",
       "    </tr>\n",
       "    <tr>\n",
       "      <th>1890</th>\n",
       "      <td>z969</td>\n",
       "      <td>Naftisol</td>\n",
       "      <td>Male</td>\n",
       "      <td>9</td>\n",
       "      <td>30</td>\n",
       "      <td>35</td>\n",
       "      <td>69.176246</td>\n",
       "      <td>4</td>\n",
       "    </tr>\n",
       "    <tr>\n",
       "      <th>1891</th>\n",
       "      <td>z969</td>\n",
       "      <td>Naftisol</td>\n",
       "      <td>Male</td>\n",
       "      <td>9</td>\n",
       "      <td>30</td>\n",
       "      <td>40</td>\n",
       "      <td>70.314904</td>\n",
       "      <td>4</td>\n",
       "    </tr>\n",
       "    <tr>\n",
       "      <th>1892</th>\n",
       "      <td>z969</td>\n",
       "      <td>Naftisol</td>\n",
       "      <td>Male</td>\n",
       "      <td>9</td>\n",
       "      <td>30</td>\n",
       "      <td>45</td>\n",
       "      <td>73.867845</td>\n",
       "      <td>4</td>\n",
       "    </tr>\n",
       "  </tbody>\n",
       "</table>\n",
       "<p>1880 rows × 8 columns</p>\n",
       "</div>"
      ],
      "text/plain": [
       "     Mouse ID Drug Regimen   Sex  Age_months  Weight (g)  Timepoint  \\\n",
       "0        k403     Ramicane  Male          21          16          0   \n",
       "1        k403     Ramicane  Male          21          16          5   \n",
       "2        k403     Ramicane  Male          21          16         10   \n",
       "3        k403     Ramicane  Male          21          16         15   \n",
       "4        k403     Ramicane  Male          21          16         20   \n",
       "...       ...          ...   ...         ...         ...        ...   \n",
       "1888     z969     Naftisol  Male           9          30         25   \n",
       "1889     z969     Naftisol  Male           9          30         30   \n",
       "1890     z969     Naftisol  Male           9          30         35   \n",
       "1891     z969     Naftisol  Male           9          30         40   \n",
       "1892     z969     Naftisol  Male           9          30         45   \n",
       "\n",
       "      Tumor Volume (mm3)  Metastatic Sites  \n",
       "0              45.000000                 0  \n",
       "1              38.825898                 0  \n",
       "2              35.014271                 1  \n",
       "3              34.223992                 1  \n",
       "4              32.997729                 1  \n",
       "...                  ...               ...  \n",
       "1888           63.145652                 2  \n",
       "1889           65.841013                 3  \n",
       "1890           69.176246                 4  \n",
       "1891           70.314904                 4  \n",
       "1892           73.867845                 4  \n",
       "\n",
       "[1880 rows x 8 columns]"
      ]
     },
     "execution_count": 6,
     "metadata": {},
     "output_type": "execute_result"
    }
   ],
   "source": [
    "# Create a clean DataFrame by dropping the duplicate mouse by its ID.\n",
    "# now I need to drop all of g989 since it has duplicates. The wording is vague but I am dropping it all\n",
    "# we can also confirm they have been dropped by checking the row length; it decreased from 1893 to 1880. \n",
    "#clean_df = merged_df.drop_duplicates(subset=['Mouse ID','Timepoint'],keep='first')\n",
    "#clean_df\n",
    "clean_df = merged_df[merged_df['Mouse ID'] != 'g989']\n",
    "clean_df"
   ]
  },
  {
   "cell_type": "code",
   "execution_count": 7,
   "metadata": {},
   "outputs": [
    {
     "data": {
      "text/plain": [
       "0     248\n",
       "5     236\n",
       "10    221\n",
       "15    205\n",
       "20    193\n",
       "25    182\n",
       "30    170\n",
       "35    153\n",
       "40    142\n",
       "45    130\n",
       "Name: Timepoint, dtype: int64"
      ]
     },
     "execution_count": 7,
     "metadata": {},
     "output_type": "execute_result"
    }
   ],
   "source": [
    "# re-checking the number of mice in the DataFrame at their time points.\n",
    "clean_df['Mouse ID'].value_counts()\n",
    "clean_df['Timepoint'].value_counts()"
   ]
  },
  {
   "cell_type": "code",
   "execution_count": 8,
   "metadata": {},
   "outputs": [
    {
     "data": {
      "text/plain": [
       "Mouse ID              0\n",
       "Drug Regimen          0\n",
       "Sex                   0\n",
       "Age_months            0\n",
       "Weight (g)            0\n",
       "Timepoint             0\n",
       "Tumor Volume (mm3)    0\n",
       "Metastatic Sites      0\n",
       "dtype: int64"
      ]
     },
     "execution_count": 8,
     "metadata": {},
     "output_type": "execute_result"
    }
   ],
   "source": [
    "# Checking the number of mice in the clean DataFrame part 2:\n",
    "# I want to show, again, that the mouse at g989 is not there. A .loc equaling the mouse ID\n",
    "# should suffice. \n",
    "#This will show that the mouse we found to be a duplicate has been removed entirely.\n",
    "double_clean_df = clean_df.loc[clean_df['Mouse ID']=='g989'].count()\n",
    "double_clean_df"
   ]
  },
  {
   "cell_type": "code",
   "execution_count": 9,
   "metadata": {},
   "outputs": [
    {
     "data": {
      "text/html": [
       "<div>\n",
       "<style scoped>\n",
       "    .dataframe tbody tr th:only-of-type {\n",
       "        vertical-align: middle;\n",
       "    }\n",
       "\n",
       "    .dataframe tbody tr th {\n",
       "        vertical-align: top;\n",
       "    }\n",
       "\n",
       "    .dataframe thead th {\n",
       "        text-align: right;\n",
       "    }\n",
       "</style>\n",
       "<table border=\"1\" class=\"dataframe\">\n",
       "  <thead>\n",
       "    <tr style=\"text-align: right;\">\n",
       "      <th></th>\n",
       "      <th></th>\n",
       "      <th>Drug Regimen</th>\n",
       "      <th>Sex</th>\n",
       "      <th>Age_months</th>\n",
       "      <th>Weight (g)</th>\n",
       "      <th>Tumor Volume (mm3)</th>\n",
       "      <th>Metastatic Sites</th>\n",
       "    </tr>\n",
       "    <tr>\n",
       "      <th>Mouse ID</th>\n",
       "      <th>Timepoint</th>\n",
       "      <th></th>\n",
       "      <th></th>\n",
       "      <th></th>\n",
       "      <th></th>\n",
       "      <th></th>\n",
       "      <th></th>\n",
       "    </tr>\n",
       "  </thead>\n",
       "  <tbody>\n",
       "    <tr>\n",
       "      <th rowspan=\"5\" valign=\"top\">a203</th>\n",
       "      <th>0</th>\n",
       "      <td>Infubinol</td>\n",
       "      <td>Female</td>\n",
       "      <td>20</td>\n",
       "      <td>23</td>\n",
       "      <td>45.000000</td>\n",
       "      <td>0</td>\n",
       "    </tr>\n",
       "    <tr>\n",
       "      <th>5</th>\n",
       "      <td>Infubinol</td>\n",
       "      <td>Female</td>\n",
       "      <td>20</td>\n",
       "      <td>23</td>\n",
       "      <td>48.508468</td>\n",
       "      <td>0</td>\n",
       "    </tr>\n",
       "    <tr>\n",
       "      <th>10</th>\n",
       "      <td>Infubinol</td>\n",
       "      <td>Female</td>\n",
       "      <td>20</td>\n",
       "      <td>23</td>\n",
       "      <td>51.852437</td>\n",
       "      <td>1</td>\n",
       "    </tr>\n",
       "    <tr>\n",
       "      <th>15</th>\n",
       "      <td>Infubinol</td>\n",
       "      <td>Female</td>\n",
       "      <td>20</td>\n",
       "      <td>23</td>\n",
       "      <td>52.777870</td>\n",
       "      <td>1</td>\n",
       "    </tr>\n",
       "    <tr>\n",
       "      <th>20</th>\n",
       "      <td>Infubinol</td>\n",
       "      <td>Female</td>\n",
       "      <td>20</td>\n",
       "      <td>23</td>\n",
       "      <td>55.173336</td>\n",
       "      <td>1</td>\n",
       "    </tr>\n",
       "    <tr>\n",
       "      <th>...</th>\n",
       "      <th>...</th>\n",
       "      <td>...</td>\n",
       "      <td>...</td>\n",
       "      <td>...</td>\n",
       "      <td>...</td>\n",
       "      <td>...</td>\n",
       "      <td>...</td>\n",
       "    </tr>\n",
       "    <tr>\n",
       "      <th rowspan=\"5\" valign=\"top\">z969</th>\n",
       "      <th>25</th>\n",
       "      <td>Naftisol</td>\n",
       "      <td>Male</td>\n",
       "      <td>9</td>\n",
       "      <td>30</td>\n",
       "      <td>63.145652</td>\n",
       "      <td>2</td>\n",
       "    </tr>\n",
       "    <tr>\n",
       "      <th>30</th>\n",
       "      <td>Naftisol</td>\n",
       "      <td>Male</td>\n",
       "      <td>9</td>\n",
       "      <td>30</td>\n",
       "      <td>65.841013</td>\n",
       "      <td>3</td>\n",
       "    </tr>\n",
       "    <tr>\n",
       "      <th>35</th>\n",
       "      <td>Naftisol</td>\n",
       "      <td>Male</td>\n",
       "      <td>9</td>\n",
       "      <td>30</td>\n",
       "      <td>69.176246</td>\n",
       "      <td>4</td>\n",
       "    </tr>\n",
       "    <tr>\n",
       "      <th>40</th>\n",
       "      <td>Naftisol</td>\n",
       "      <td>Male</td>\n",
       "      <td>9</td>\n",
       "      <td>30</td>\n",
       "      <td>70.314904</td>\n",
       "      <td>4</td>\n",
       "    </tr>\n",
       "    <tr>\n",
       "      <th>45</th>\n",
       "      <td>Naftisol</td>\n",
       "      <td>Male</td>\n",
       "      <td>9</td>\n",
       "      <td>30</td>\n",
       "      <td>73.867845</td>\n",
       "      <td>4</td>\n",
       "    </tr>\n",
       "  </tbody>\n",
       "</table>\n",
       "<p>1880 rows × 6 columns</p>\n",
       "</div>"
      ],
      "text/plain": [
       "                   Drug Regimen     Sex  Age_months  Weight (g)  \\\n",
       "Mouse ID Timepoint                                                \n",
       "a203     0            Infubinol  Female          20          23   \n",
       "         5            Infubinol  Female          20          23   \n",
       "         10           Infubinol  Female          20          23   \n",
       "         15           Infubinol  Female          20          23   \n",
       "         20           Infubinol  Female          20          23   \n",
       "...                         ...     ...         ...         ...   \n",
       "z969     25            Naftisol    Male           9          30   \n",
       "         30            Naftisol    Male           9          30   \n",
       "         35            Naftisol    Male           9          30   \n",
       "         40            Naftisol    Male           9          30   \n",
       "         45            Naftisol    Male           9          30   \n",
       "\n",
       "                    Tumor Volume (mm3)  Metastatic Sites  \n",
       "Mouse ID Timepoint                                        \n",
       "a203     0                   45.000000                 0  \n",
       "         5                   48.508468                 0  \n",
       "         10                  51.852437                 1  \n",
       "         15                  52.777870                 1  \n",
       "         20                  55.173336                 1  \n",
       "...                                ...               ...  \n",
       "z969     25                  63.145652                 2  \n",
       "         30                  65.841013                 3  \n",
       "         35                  69.176246                 4  \n",
       "         40                  70.314904                 4  \n",
       "         45                  73.867845                 4  \n",
       "\n",
       "[1880 rows x 6 columns]"
      ]
     },
     "execution_count": 9,
     "metadata": {},
     "output_type": "execute_result"
    }
   ],
   "source": [
    "#Look at possibly doing a groupby for each unique mouse by their ID, this will allow me to \n",
    "#see their timepoints. This is more for my clarity to see a different style of set up and is entirely preference. \n",
    "groupbyID_df = clean_df.groupby(['Mouse ID','Timepoint'])\n",
    "groupbyID_df.first()"
   ]
  },
  {
   "cell_type": "markdown",
   "metadata": {},
   "source": [
    "## Summary Statistics\n",
    "Generate a summary statistics table of mean, median, variance, standard deviation, and SEM of the tumor volume for each regimen"
   ]
  },
  {
   "cell_type": "code",
   "execution_count": 10,
   "metadata": {},
   "outputs": [
    {
     "data": {
      "text/html": [
       "<div>\n",
       "<style scoped>\n",
       "    .dataframe tbody tr th:only-of-type {\n",
       "        vertical-align: middle;\n",
       "    }\n",
       "\n",
       "    .dataframe tbody tr th {\n",
       "        vertical-align: top;\n",
       "    }\n",
       "\n",
       "    .dataframe thead tr th {\n",
       "        text-align: left;\n",
       "    }\n",
       "\n",
       "    .dataframe thead tr:last-of-type th {\n",
       "        text-align: right;\n",
       "    }\n",
       "</style>\n",
       "<table border=\"1\" class=\"dataframe\">\n",
       "  <thead>\n",
       "    <tr>\n",
       "      <th></th>\n",
       "      <th colspan=\"5\" halign=\"left\">Tumor Volume (mm3)</th>\n",
       "    </tr>\n",
       "    <tr>\n",
       "      <th></th>\n",
       "      <th>mean</th>\n",
       "      <th>median</th>\n",
       "      <th>var</th>\n",
       "      <th>std</th>\n",
       "      <th>sem</th>\n",
       "    </tr>\n",
       "    <tr>\n",
       "      <th>Drug Regimen</th>\n",
       "      <th></th>\n",
       "      <th></th>\n",
       "      <th></th>\n",
       "      <th></th>\n",
       "      <th></th>\n",
       "    </tr>\n",
       "  </thead>\n",
       "  <tbody>\n",
       "    <tr>\n",
       "      <th>Capomulin</th>\n",
       "      <td>40.68</td>\n",
       "      <td>41.56</td>\n",
       "      <td>24.95</td>\n",
       "      <td>4.99</td>\n",
       "      <td>0.33</td>\n",
       "    </tr>\n",
       "    <tr>\n",
       "      <th>Ceftamin</th>\n",
       "      <td>52.59</td>\n",
       "      <td>51.78</td>\n",
       "      <td>39.29</td>\n",
       "      <td>6.27</td>\n",
       "      <td>0.47</td>\n",
       "    </tr>\n",
       "    <tr>\n",
       "      <th>Infubinol</th>\n",
       "      <td>52.88</td>\n",
       "      <td>51.82</td>\n",
       "      <td>43.13</td>\n",
       "      <td>6.57</td>\n",
       "      <td>0.49</td>\n",
       "    </tr>\n",
       "    <tr>\n",
       "      <th>Ketapril</th>\n",
       "      <td>55.24</td>\n",
       "      <td>53.70</td>\n",
       "      <td>68.55</td>\n",
       "      <td>8.28</td>\n",
       "      <td>0.60</td>\n",
       "    </tr>\n",
       "    <tr>\n",
       "      <th>Naftisol</th>\n",
       "      <td>54.33</td>\n",
       "      <td>52.51</td>\n",
       "      <td>66.17</td>\n",
       "      <td>8.13</td>\n",
       "      <td>0.60</td>\n",
       "    </tr>\n",
       "    <tr>\n",
       "      <th>Placebo</th>\n",
       "      <td>54.03</td>\n",
       "      <td>52.29</td>\n",
       "      <td>61.17</td>\n",
       "      <td>7.82</td>\n",
       "      <td>0.58</td>\n",
       "    </tr>\n",
       "    <tr>\n",
       "      <th>Propriva</th>\n",
       "      <td>52.32</td>\n",
       "      <td>50.45</td>\n",
       "      <td>43.85</td>\n",
       "      <td>6.62</td>\n",
       "      <td>0.54</td>\n",
       "    </tr>\n",
       "    <tr>\n",
       "      <th>Ramicane</th>\n",
       "      <td>40.22</td>\n",
       "      <td>40.67</td>\n",
       "      <td>23.49</td>\n",
       "      <td>4.85</td>\n",
       "      <td>0.32</td>\n",
       "    </tr>\n",
       "    <tr>\n",
       "      <th>Stelasyn</th>\n",
       "      <td>54.23</td>\n",
       "      <td>52.43</td>\n",
       "      <td>59.45</td>\n",
       "      <td>7.71</td>\n",
       "      <td>0.57</td>\n",
       "    </tr>\n",
       "    <tr>\n",
       "      <th>Zoniferol</th>\n",
       "      <td>53.24</td>\n",
       "      <td>51.82</td>\n",
       "      <td>48.53</td>\n",
       "      <td>6.97</td>\n",
       "      <td>0.52</td>\n",
       "    </tr>\n",
       "  </tbody>\n",
       "</table>\n",
       "</div>"
      ],
      "text/plain": [
       "             Tumor Volume (mm3)                          \n",
       "                           mean median    var   std   sem\n",
       "Drug Regimen                                             \n",
       "Capomulin                 40.68  41.56  24.95  4.99  0.33\n",
       "Ceftamin                  52.59  51.78  39.29  6.27  0.47\n",
       "Infubinol                 52.88  51.82  43.13  6.57  0.49\n",
       "Ketapril                  55.24  53.70  68.55  8.28  0.60\n",
       "Naftisol                  54.33  52.51  66.17  8.13  0.60\n",
       "Placebo                   54.03  52.29  61.17  7.82  0.58\n",
       "Propriva                  52.32  50.45  43.85  6.62  0.54\n",
       "Ramicane                  40.22  40.67  23.49  4.85  0.32\n",
       "Stelasyn                  54.23  52.43  59.45  7.71  0.57\n",
       "Zoniferol                 53.24  51.82  48.53  6.97  0.52"
      ]
     },
     "execution_count": 10,
     "metadata": {},
     "output_type": "execute_result"
    }
   ],
   "source": [
    "# here I want to do a groupby with a .agg, I think that will be the easiest to code as opposed to \n",
    "# creating a bunch of variables for the summary stats by regimen and assigning them to a dictionary. \n",
    "# I used this as an aid for my .agg: \n",
    "# https://pandas.pydata.org/docs/getting_started/intro_tutorials/06_calculate_statistics.html\n",
    "stats_sum_df = clean_df.groupby('Drug Regimen').agg({'Tumor Volume (mm3)': ['mean', 'median','var','std','sem']})\n",
    "stats_sum_df.round(2)"
   ]
  },
  {
   "cell_type": "markdown",
   "metadata": {},
   "source": [
    "# Bar Plot\n",
    "1) Generate a bar plot showing the number of mice per time point for \n",
    "each treatment throughout the course of the study using pandas.\n",
    "\n",
    "2) Generate a bar plot showing the number of mice per time point \n",
    "for each treatment throughout the course of the study using pyplot. "
   ]
  },
  {
   "cell_type": "code",
   "execution_count": 11,
   "metadata": {},
   "outputs": [
    {
     "data": {
      "image/png": "[encoded data removed]",
      "text/plain": [
       "<Figure size 576x432 with 1 Axes>"
      ]
     },
     "metadata": {
      "needs_background": "light"
     },
     "output_type": "display_data"
    },
    {
     "data": {
      "image/png": "[encoded data removed]",
      "text/plain": [
       "<Figure size 576x432 with 1 Axes>"
      ]
     },
     "metadata": {
      "needs_background": "light"
     },
     "output_type": "display_data"
    }
   ],
   "source": [
    "#Bar plot using Pandas:\n",
    "# I want to do a groupby for regimen, then Mouse ID. This should show me mouse per regimen pretty simply. \n",
    "xgroup = clean_df.groupby('Drug Regimen')\n",
    "ygroup = xgroup['Mouse ID'].count()\n",
    "#Plot figure size and barchart...with some formatting and labels.\n",
    "plt.figure(figsize=(8,6))\n",
    "barchart = ygroup.plot(kind=\"bar\", title=\"Number of Mice Timecounts by regimen over the study\", stacked=True,\\\n",
    "                      facecolor='blue',alpha=.8, width = .5)\n",
    "# Limits\n",
    "plt.xlim=(-0.25,len(xgroup))\n",
    "plt.ylim(0, max(ygroup) + 10)\n",
    "# Labels\n",
    "barchart.set_xlabel(\"Drug Regimens\")\n",
    "barchart.set_ylabel(\"Sum of Timepoints for Mice\")\n",
    "\n",
    "# Bonus Second Graph:\n",
    "# This represents each regimens' mice count over each timepoint. I originally thought, due to some vague wording,\n",
    "# that we needed to represent the number of mice each regimen had over the timepoints. I liked how this turned\n",
    "# out, and think it is informitive, so I kept it as a bonus graph. \n",
    "#https://stackoverflow.com/questions/26683654/making-a-stacked-barchart-in-pandas\n",
    "aliveovertimegroup = clean_df.groupby(['Timepoint','Drug Regimen'])['Mouse ID'].count().unstack()\\\n",
    "    .plot(kind='bar', stacked=True, figsize = (8,6), title = \"Bonus: Number of mice per timepoint by regimen\")\n",
    "#Labels\n",
    "aliveovertimegroup.set_ylabel(\"Number of Mice\")\n",
    "aliveovertimegroup.set_xlabel(\"Timepoints\")\n",
    "plt.show()"
   ]
  },
  {
   "cell_type": "code",
   "execution_count": 17,
   "metadata": {},
   "outputs": [
    {
     "data": {
      "image/png": "[encoded data removed]",
      "text/plain": [
       "<Figure size 576x432 with 1 Axes>"
      ]
     },
     "metadata": {
      "needs_background": "light"
     },
     "output_type": "display_data"
    }
   ],
   "source": [
    "# Bar plot using Pyplot:\n",
    "# I will want to set a new variable to the cleaned DF and find the unique values for drug regimen. \n",
    "regimen_count = clean_df[\"Drug Regimen\"].unique()\n",
    "sort_regimen = regimen_count.sort()\n",
    "x_axis = np.arange(0,len(regimen_count))\n",
    "tick_locations = [i for i in x_axis]\n",
    "#Plot the figure size, barchart, and some formatting/styling to make it identical to the bar graph above\n",
    "plt.figure(figsize=(8,6))\n",
    "plt.bar(regimen_count, ygroup,alpha=0.8,color='blue',align='center',width=.5)\n",
    "plt.xticks(tick_locations,regimen_count, rotation='vertical')\n",
    "#limits\n",
    "plt.xlim=(-0.25,len(x_axis))\n",
    "plt.ylim(0, max(ygroup) + 10)\n",
    "# Labels and title\n",
    "plt.title(\"Number of Mice Timecounts by regimen over the study\")\n",
    "plt.ylabel(\"Sum of Timepoints for Mice\")\n",
    "plt.xlabel(\"Drug Regimens\")\n",
    "plt.show()"
   ]
  },
  {
   "cell_type": "markdown",
   "metadata": {},
   "source": [
    "## Pie Plots\n",
    "1) Generate a pie plot showing the distribution of female versus male mice using pandas\n",
    "\n",
    "2) Generate a pie plot showing the distribution of female versus male mice using pyplot"
   ]
  },
  {
   "cell_type": "code",
   "execution_count": 18,
   "metadata": {},
   "outputs": [
    {
     "name": "stdout",
     "output_type": "stream",
     "text": [
      "Sex\n",
      "Female    123\n",
      "Male      125\n",
      "Name: Mouse ID, dtype: int64\n"
     ]
    },
    {
     "data": {
      "image/png": "[encoded data removed]",
      "text/plain": [
       "<Figure size 432x288 with 1 Axes>"
      ]
     },
     "metadata": {},
     "output_type": "display_data"
    },
    {
     "data": {
      "text/plain": [
       "<Figure size 432x288 with 0 Axes>"
      ]
     },
     "metadata": {},
     "output_type": "display_data"
    }
   ],
   "source": [
    "#Pie plot: Pandas\n",
    "# Collect the sex breakdown of the mice\n",
    "s_group = clean_df['Mouse ID'].groupby([clean_df['Sex']]).nunique()\n",
    "print(s_group)\n",
    "\n",
    "# Place the keys for sex\n",
    "s_list = s_group.keys()\n",
    "explode = [0.05,0]\n",
    "\n",
    "# Create a pie chart based upon sex breakdown\n",
    "s_pie = s_group.plot(kind=\"pie\", y=s_list, title= \"Sex of Mice\",autopct='%2.1f%%',\\\n",
    "                       explode = explode, shadow=True)\n",
    "s_pie.set_ylabel(\"Distribution of Male versus Female\")\n",
    "#show plot\n",
    "plt.axis('equal')\n",
    "plt.show()\n",
    "plt.tight_layout()"
   ]
  },
  {
   "cell_type": "code",
   "execution_count": 19,
   "metadata": {},
   "outputs": [
    {
     "name": "stdout",
     "output_type": "stream",
     "text": [
      "Sex\n",
      "Female    123\n",
      "Male      125\n",
      "Name: Mouse ID, dtype: int64\n"
     ]
    },
    {
     "data": {
      "image/png": "[encoded data removed]",
      "text/plain": [
       "<Figure size 432x288 with 1 Axes>"
      ]
     },
     "metadata": {},
     "output_type": "display_data"
    }
   ],
   "source": [
    "#Pie plot: Pyplot\n",
    "#This pie chart needs to look identical to the pie chart above so I will use the same colors and formatting. \n",
    "#https://stackoverflow.com/questions/38309729/count-unique-values-with-pandas-per-groups/38309807\n",
    "print(s_group)\n",
    "explode = [0.05,0]\n",
    "labels = ['Female','Male']\n",
    "plt.pie(s_group, explode=explode, labels=labels, autopct='%2.1f%%',startangle=0,shadow=True)\n",
    "plt.axis('equal')\n",
    "plt.title(\"Sex of Mice\")\n",
    "plt.ylabel(\"Distribution of Male versus Female\")\n",
    "plt.show()\n"
   ]
  },
  {
   "cell_type": "markdown",
   "metadata": {},
   "source": [
    "## Quartiles, Outliers and Boxplots\n",
    "1) Calculate the final tumor volume of each mouse across four of the most promising treatment regimens. \n",
    "Calculate the IQR and quantitatively determine if there are any potential outliers. \n",
    "\n",
    "2) Generate a box plot of the final tumor volume of each mouse across four regimens of interest"
   ]
  },
  {
   "cell_type": "code",
   "execution_count": 21,
   "metadata": {},
   "outputs": [],
   "source": [
    "# Calculate the final tumor volume of each mouse across four of the most promising treatment regimens.  \n",
    "#Find the last column of each Mouse ID\n",
    "final_tumor = clean_df.groupby('Mouse ID').agg(['last']).stack()\n",
    "#Now I need to locate where the drug equals the four most promising: Capomulin, Ramicane, Infubinol, and Ceftamin\n",
    "# I am going to assign this list to a new variable. I want to do a .loc and build one DF containing the four promising treatments. \n",
    "regimen_df = final_tumor.loc[(final_tumor['Drug Regimen'] == 'Capomulin')\\\n",
    "                                | (final_tumor['Drug Regimen'] == 'Ramicane')\\\n",
    "                             | (final_tumor['Drug Regimen'] == 'Infubinol')\\\n",
    "                             | (final_tumor['Drug Regimen'] == 'Ceftamin')]\n",
    "#drop the columns not associated with Mouse ID, Regimen, and Tumor Volume\n",
    "cleanregimen_df = regimen_df.drop(regimen_df.columns[[1,2,3,4,6]], axis=1)\n",
    "#Create individual dataframes for each regimen. This is a bit tedious but I'd like to call from individual DFs. \n",
    "capomulin_df = cleanregimen_df.loc[cleanregimen_df['Drug Regimen']== 'Capomulin']\n",
    "ramicane_df = cleanregimen_df.loc[cleanregimen_df['Drug Regimen']== 'Ramicane']\n",
    "infubinol_df = cleanregimen_df.loc[cleanregimen_df['Drug Regimen']== 'Infubinol']\n",
    "ceftamin_df = cleanregimen_df.loc[cleanregimen_df['Drug Regimen']== 'Ceftamin']"
   ]
  },
  {
   "cell_type": "code",
   "execution_count": 30,
   "metadata": {},
   "outputs": [
    {
     "name": "stdout",
     "output_type": "stream",
     "text": [
      "\u001b[1m - Capomulin summary:\n",
      "\u001b[0m\n",
      "the lower quartile is: 32.38\n",
      "the upper quartile is: 40.16\n",
      "The inner quartile is: 7.78\n",
      "The median is: 38.13\n",
      "Values below 20.7 could be potential outliers.\n",
      "Values above 51.83 could be potential outliers.\n",
      "\n",
      "\u001b[1m - Ramicane summary:\n",
      "\u001b[0m\n",
      "the lower quartile is: 31.56\n",
      "the upper quartile is: 40.66\n",
      "The inner quartile is: 9.1\n",
      "The median is: 36.56\n",
      "Values below 17.91 could be potential outliers.\n",
      "Values above 54.31 could be potential outliers.\n",
      "\n",
      "\u001b[1m - Infubinol summary:\n",
      "\u001b[0m\n",
      "the lower quartile is: 54.05\n",
      "the upper quartile is: 65.53\n",
      "The inner quartile is: 11.48\n",
      "The median is: 60.17\n",
      "Values below 36.83 could be potential outliers.\n",
      "Values above 82.74 could be potential outliers.\n",
      "\n",
      "\u001b[1m - Ceftamin summary:\n",
      "\u001b[0m\n",
      "the lower quartile is: 48.72\n",
      "the upper quartile is: 64.3\n",
      "The inner quartile is: 15.58\n",
      "The median is: 59.85\n",
      "Values below 25.36 could be potential outliers.\n",
      "Values above 87.67 could be potential outliers.\n",
      "\n"
     ]
    }
   ],
   "source": [
    "# try and do a function for all the print statements since they are all based on four drugs. \n",
    "# This will be tricky since I need to find the tumor volume by the four promising regimen and all the IQR data \n",
    "# within the function. \n",
    "# I also used the Python Crash Course PDF on Functions here. \n",
    "# Create my function\n",
    "def iqrstats(regimen):\n",
    "    #Stats will call from my variable above and then look for what ever argument I establish in ()\n",
    "    stats_df = regimen_df.loc[(regimen_df['Drug Regimen']==regimen)]\n",
    "    size = stats_df['Tumor Volume (mm3)']\n",
    "    #Set this up just like the IQR class activity.\n",
    "    quartiles = size.quantile([.25,.5,.75])\n",
    "    lowerq = quartiles[0.25]\n",
    "    upperq = quartiles[0.75]\n",
    "    inner = upperq - lowerq\n",
    "    lower_bound = lowerq - (1.5*inner)\n",
    "    upper_bound = upperq + (1.5*inner)\n",
    "    #print statements based upon variables above. This will also look like the class activity\n",
    "    print(f'\\033[1m - {regimen} summary:\\n\\033[0m') #just jazzing up the titles of each regimen\n",
    "    print(f\"the lower quartile is: {round((lowerq),2)}\")\n",
    "    print(f\"the upper quartile is: {round((upperq),2)}\")\n",
    "    print(f\"The inner quartile is: {round((inner),2)}\")\n",
    "    print(f\"The median is: {round((quartiles[.5]),2)}\")\n",
    "    print(f\"Values below {round((lower_bound),2)} could be potential outliers.\")\n",
    "    print(f\"Values above {round((upper_bound),2)} could be potential outliers.\\n\")\n",
    "\n",
    "#calculate te final tumor volume = final_tumor then locate the drugs = regimen_df\n",
    "sorted_tumors = regimen_df.sort_values(by=[\"Tumor Volume (mm3)\"])\n",
    "fourregimen = ['Capomulin','Ramicane','Infubinol','Ceftamin']\n",
    "#for loop through the four regimens with the stats function up above. \n",
    "for i in (fourregimen):\n",
    "    iqrstats(i)"
   ]
  },
  {
   "cell_type": "code",
   "execution_count": 27,
   "metadata": {
    "scrolled": true
   },
   "outputs": [
    {
     "data": {
      "text/plain": [
       "Text(0.5, 0, 'Drug Regimens')"
      ]
     },
     "execution_count": 27,
     "metadata": {},
     "output_type": "execute_result"
    },
    {
     "data": {
      "image/png": "[encoded data removed]",
      "text/plain": [
       "<Figure size 504x432 with 1 Axes>"
      ]
     },
     "metadata": {
      "needs_background": "light"
     },
     "output_type": "display_data"
    }
   ],
   "source": [
    "# Generate a box plot of the final tumor volume of each mouse across four regimens of interest\n",
    "# https://pandas.pydata.org/pandas-docs/stable/reference/api/pandas.DataFrame.boxplot.html\n",
    "# I am thinking I want to make a new variable and convert it to a dictionary, the link above goes that route\n",
    "# and I think I favor it. \n",
    "#variables--pull from some DFs above. \n",
    "cap = capomulin_df[\"Tumor Volume (mm3)\"]\n",
    "ram = ramicane_df[\"Tumor Volume (mm3)\"]\n",
    "inf = infubinol_df[\"Tumor Volume (mm3)\"]\n",
    "cef = ceftamin_df[\"Tumor Volume (mm3)\"]\n",
    "box_df = pd.DataFrame({\"Capomulin\": cap, \"Ramicane\": ram, \"Infubinol\": inf, \"Ceftamin\": cef})\n",
    "# style and change the outlier color and shape so it stands out. \n",
    "style = dict(markerfacecolor='black', markersize='8', marker = 's')\n",
    "#Now make a boxplot variable calling the columns from the new DF with some other formatting:\n",
    "boxplot = box_df.boxplot(['Capomulin','Ramicane','Infubinol','Ceftamin'],fontsize=12,color='black',\\\n",
    "                         showmeans=True, figsize = (7,6), flierprops = style)\n",
    "# Set title and labels\n",
    "boxplot.set_title('Tumor Volume of Mice Across Four Promising Regimen')\n",
    "boxplot.set_ylabel('Tumor Volume (mm3)')\n",
    "boxplot.set_xlabel('Drug Regimens')\n",
    "# The boxplots match the numbers in the IQR stats above. "
   ]
  },
  {
   "cell_type": "markdown",
   "metadata": {},
   "source": [
    "## Line and Scatter Plots\n",
    "1) Generate a line plot of time point versus tumor volume for a mouse treated with Capomulin\n",
    "\n",
    "2) Generate a scatter plot of mouse weight versus average tumor volume for the Capomulin regimen"
   ]
  },
  {
   "cell_type": "code",
   "execution_count": 34,
   "metadata": {},
   "outputs": [
    {
     "data": {
      "text/plain": [
       "<matplotlib.legend.Legend at 0x7fc68e21cc18>"
      ]
     },
     "execution_count": 34,
     "metadata": {},
     "output_type": "execute_result"
    },
    {
     "data": {
      "image/png": "[encoded data removed]",
      "text/plain": [
       "<Figure size 432x288 with 1 Axes>"
      ]
     },
     "metadata": {
      "needs_background": "light"
     },
     "output_type": "display_data"
    }
   ],
   "source": [
    "# Generate a line plot of time point versus tumor volume for a mouse treated with Capomulin\n",
    "# I need to line plot this dataframe: capomulin_df --These are all the mice on Capomulin, I need to pick one\n",
    "# locate a mouse I want that was treated with Capomulin\n",
    "mousetumor = clean_df.loc[clean_df['Mouse ID'] == 'y793']\n",
    "# y-variable\n",
    "tumorvol = mousetumor[\"Tumor Volume (mm3)\"]\n",
    "# x-variable\n",
    "time = mousetumor['Timepoint']\n",
    "#plot the line graph and add some style/formatting. \n",
    "poormouse, =plt.plot(time, tumorvol, linewidth=2, color='black', label='y793: Tumor Volume')\n",
    "#Label and legend \n",
    "plt.title(\"Capomulin Treatment of Mouse y793\")\n",
    "plt.xlabel(\"Timepoint (days)\")\n",
    "plt.ylabel(\"Tumor Volume (mm3)\")   \n",
    "plt.legend(handles=[poormouse], loc=\"best\") "
   ]
  },
  {
   "cell_type": "code",
   "execution_count": 36,
   "metadata": {},
   "outputs": [
    {
     "data": {
      "text/plain": [
       "Text(0, 0.5, 'Average Tumor Volume (mm3)')"
      ]
     },
     "execution_count": 36,
     "metadata": {},
     "output_type": "execute_result"
    },
    {
     "data": {
      "image/png": "[encoded data removed]",
      "text/plain": [
       "<Figure size 432x360 with 1 Axes>"
      ]
     },
     "metadata": {
      "needs_background": "light"
     },
     "output_type": "display_data"
    }
   ],
   "source": [
    "# Generate a scatter plot of mouse weight versus average tumor volume for the Capomulin regimen\n",
    "# Variables/Columns = Weight and Average Tumor Size  \n",
    "# Locate all capomulins from my clean DF, then find the mean of the tumor volume along with weight. \n",
    "fullcapo = clean_df.loc[clean_df['Drug Regimen']=='Capomulin']\n",
    "# going to do another .agg. The weight should not matter since they remained the same over timepoints.\n",
    "weightvstumor = fullcapo.groupby(\"Mouse ID\").agg({'Tumor Volume (mm3)': ['mean'], 'Weight (g)':['mean']})\n",
    "# Plot\n",
    "weightvstumor.plot(kind=\"scatter\", x=\"Weight (g)\", y=\"Tumor Volume (mm3)\", grid=False, figsize=(6,5),\n",
    "              title=\"Mouse weight versus avg Tumor Size on Capomulin\")\n",
    "# label\n",
    "plt.xlabel(\"Weight (g)\")\n",
    "plt.ylabel(\"Average Tumor Volume (mm3)\")"
   ]
  },
  {
   "cell_type": "markdown",
   "metadata": {},
   "source": [
    "## Correlation and Regression\n",
    "1) Calculate the correlation coefficient and linear regression model \n",
    "for mouse weight and average tumor volume for the Capomulin regimen"
   ]
  },
  {
   "cell_type": "code",
   "execution_count": 39,
   "metadata": {},
   "outputs": [
    {
     "name": "stdout",
     "output_type": "stream",
     "text": [
      "The correlation coefficient between weight and tumor volume is: 0.84\n",
      "The slope and intercept are: 0.95 , 21.55\n"
     ]
    },
    {
     "data": {
      "image/png": "[encoded data removed]",
      "text/plain": [
       "<Figure size 432x288 with 1 Axes>"
      ]
     },
     "metadata": {
      "needs_background": "light"
     },
     "output_type": "display_data"
    }
   ],
   "source": [
    "# Calculate the correlation coefficient and linear regression model \n",
    "# for mouse weight and average tumor volume for the Capomulin regimen\n",
    "# This will be similar to Day 3 instructor review on regression and correlation. \n",
    "#Establish my x and y values\n",
    "x_values = weightvstumor['Weight (g)']\n",
    "y_values = weightvstumor['Tumor Volume (mm3)']\n",
    "# I had to call the columsn from the x and y values since it was also wanting to pull in the mouse ID \n",
    "# and then cause too many arguments. \n",
    "(slope, intercept, rvalue, pvalue, stderr) = st.linregress(x_values['mean'],y_values['mean'])\n",
    "regress_values = x_values * slope + intercept\n",
    "#create the line equation for slope, this will need to be displayed with my line in the plot. \n",
    "line_eq = \"y = \" + str(round(slope,2)) + \"x + \" + str(round(intercept,2))\n",
    "#plot and format\n",
    "plt.scatter(x_values,y_values)\n",
    "plt.plot(x_values,regress_values,\"red\")\n",
    "plt.annotate(line_eq,(22,38), fontsize=9,color=\"red\")\n",
    "#label\n",
    "plt.xlabel('Weight (g)')\n",
    "plt.ylabel('Average Tumor Volume (mm3)')\n",
    "plt.title(\"Mouse weight versus avg Tumor Size on Capomulin\")\n",
    "xlim=(0,50)\n",
    "ylim=(30,50)\n",
    "#print my correlation coefficient. I am also including what my slope and intercept are, this is also in the plot. \n",
    "print(f'The correlation coefficient between weight and tumor volume is: {round((rvalue),2)}')\n",
    "print(f'The slope and intercept are: {round((slope),2)} , {round((intercept),2)}')"
   ]
  }
 ],
 "metadata": {
  "anaconda-cloud": {},
  "kernelspec": {
   "display_name": "Python [conda env:PythonData] *",
   "language": "python",
   "name": "conda-env-PythonData-py"
  },
  "language_info": {
   "codemirror_mode": {
    "name": "ipython",
    "version": 3
   },
   "file_extension": ".py",
   "mimetype": "text/x-python",
   "name": "python",
   "nbconvert_exporter": "python",
   "pygments_lexer": "ipython3",
   "version": "3.6.10"
  }
 },
 "nbformat": 4,
 "nbformat_minor": 2
}
